{
 "cells": [
  {
   "cell_type": "code",
   "execution_count": 1,
   "id": "e31e15db-cf53-4e04-afc3-2bab67223abc",
   "metadata": {},
   "outputs": [],
   "source": [
    "import pandas as pd\n",
    "import seaborn as sns"
   ]
  },
  {
   "cell_type": "code",
   "execution_count": 2,
   "id": "622df5fb-fda9-4d3b-8906-74a4958994f1",
   "metadata": {},
   "outputs": [],
   "source": [
    "df = sns.load_dataset('penguins')`"
   ]
  },
  {
   "cell_type": "code",
   "execution_count": 11,
   "id": "721a84f4-09c2-458a-9083-a57a22c650fd",
   "metadata": {},
   "outputs": [
    {
     "data": {
      "text/html": [
       "<div>\n",
       "<style scoped>\n",
       "    .dataframe tbody tr th:only-of-type {\n",
       "        vertical-align: middle;\n",
       "    }\n",
       "\n",
       "    .dataframe tbody tr th {\n",
       "        vertical-align: top;\n",
       "    }\n",
       "\n",
       "    .dataframe thead th {\n",
       "        text-align: right;\n",
       "    }\n",
       "</style>\n",
       "<table border=\"1\" class=\"dataframe\">\n",
       "  <thead>\n",
       "    <tr style=\"text-align: right;\">\n",
       "      <th></th>\n",
       "      <th>species</th>\n",
       "      <th>island</th>\n",
       "      <th>bill_length_mm</th>\n",
       "      <th>bill_depth_mm</th>\n",
       "      <th>flipper_length_mm</th>\n",
       "      <th>body_mass_g</th>\n",
       "      <th>sex</th>\n",
       "    </tr>\n",
       "  </thead>\n",
       "  <tbody>\n",
       "    <tr>\n",
       "      <th>0</th>\n",
       "      <td>Adelie</td>\n",
       "      <td>Torgersen</td>\n",
       "      <td>39.1</td>\n",
       "      <td>18.7</td>\n",
       "      <td>181.0</td>\n",
       "      <td>3750.0</td>\n",
       "      <td>Male</td>\n",
       "    </tr>\n",
       "    <tr>\n",
       "      <th>1</th>\n",
       "      <td>Adelie</td>\n",
       "      <td>Torgersen</td>\n",
       "      <td>39.5</td>\n",
       "      <td>17.4</td>\n",
       "      <td>186.0</td>\n",
       "      <td>3800.0</td>\n",
       "      <td>Female</td>\n",
       "    </tr>\n",
       "    <tr>\n",
       "      <th>2</th>\n",
       "      <td>Adelie</td>\n",
       "      <td>Torgersen</td>\n",
       "      <td>40.3</td>\n",
       "      <td>18.0</td>\n",
       "      <td>195.0</td>\n",
       "      <td>3250.0</td>\n",
       "      <td>Female</td>\n",
       "    </tr>\n",
       "    <tr>\n",
       "      <th>3</th>\n",
       "      <td>Adelie</td>\n",
       "      <td>Torgersen</td>\n",
       "      <td>NaN</td>\n",
       "      <td>NaN</td>\n",
       "      <td>NaN</td>\n",
       "      <td>NaN</td>\n",
       "      <td>NaN</td>\n",
       "    </tr>\n",
       "    <tr>\n",
       "      <th>4</th>\n",
       "      <td>Adelie</td>\n",
       "      <td>Torgersen</td>\n",
       "      <td>36.7</td>\n",
       "      <td>19.3</td>\n",
       "      <td>193.0</td>\n",
       "      <td>3450.0</td>\n",
       "      <td>Female</td>\n",
       "    </tr>\n",
       "  </tbody>\n",
       "</table>\n",
       "</div>"
      ],
      "text/plain": [
       "  species     island  bill_length_mm  bill_depth_mm  flipper_length_mm  \\\n",
       "0  Adelie  Torgersen            39.1           18.7              181.0   \n",
       "1  Adelie  Torgersen            39.5           17.4              186.0   \n",
       "2  Adelie  Torgersen            40.3           18.0              195.0   \n",
       "3  Adelie  Torgersen             NaN            NaN                NaN   \n",
       "4  Adelie  Torgersen            36.7           19.3              193.0   \n",
       "\n",
       "   body_mass_g     sex  \n",
       "0       3750.0    Male  \n",
       "1       3800.0  Female  \n",
       "2       3250.0  Female  \n",
       "3          NaN     NaN  \n",
       "4       3450.0  Female  "
      ]
     },
     "execution_count": 11,
     "metadata": {},
     "output_type": "execute_result"
    }
   ],
   "source": [
    "df.head()"
   ]
  },
  {
   "cell_type": "code",
   "execution_count": 10,
   "id": "49b4173b-3bae-4939-aea5-35677cbfa67e",
   "metadata": {},
   "outputs": [
    {
     "name": "stdout",
     "output_type": "stream",
     "text": [
      "<class 'pandas.core.frame.DataFrame'>\n",
      "RangeIndex: 344 entries, 0 to 343\n",
      "Data columns (total 7 columns):\n",
      " #   Column             Non-Null Count  Dtype  \n",
      "---  ------             --------------  -----  \n",
      " 0   species            344 non-null    object \n",
      " 1   island             344 non-null    object \n",
      " 2   bill_length_mm     342 non-null    float64\n",
      " 3   bill_depth_mm      342 non-null    float64\n",
      " 4   flipper_length_mm  342 non-null    float64\n",
      " 5   body_mass_g        342 non-null    float64\n",
      " 6   sex                333 non-null    object \n",
      "dtypes: float64(4), object(3)\n",
      "memory usage: 18.9+ KB\n"
     ]
    }
   ],
   "source": [
    "df_copy = df.copy()\n",
    "df_copy.info()"
   ]
  },
  {
   "cell_type": "code",
   "execution_count": 27,
   "id": "fb0b3ca6-3c93-482d-be15-28b99026793b",
   "metadata": {
    "scrolled": true
   },
   "outputs": [
    {
     "data": {
      "text/html": [
       "<div>\n",
       "<style scoped>\n",
       "    .dataframe tbody tr th:only-of-type {\n",
       "        vertical-align: middle;\n",
       "    }\n",
       "\n",
       "    .dataframe tbody tr th {\n",
       "        vertical-align: top;\n",
       "    }\n",
       "\n",
       "    .dataframe thead th {\n",
       "        text-align: right;\n",
       "    }\n",
       "</style>\n",
       "<table border=\"1\" class=\"dataframe\">\n",
       "  <thead>\n",
       "    <tr style=\"text-align: right;\">\n",
       "      <th></th>\n",
       "      <th>species</th>\n",
       "      <th>island</th>\n",
       "      <th>bill_length_mm</th>\n",
       "      <th>bill_depth_mm</th>\n",
       "      <th>flipper_length_mm</th>\n",
       "      <th>body_mass_g</th>\n",
       "      <th>sex</th>\n",
       "    </tr>\n",
       "  </thead>\n",
       "  <tbody>\n",
       "    <tr>\n",
       "      <th>221</th>\n",
       "      <td>Gentoo</td>\n",
       "      <td>Biscoe</td>\n",
       "      <td>50.0</td>\n",
       "      <td>16.3</td>\n",
       "      <td>230.0</td>\n",
       "      <td>5700.0</td>\n",
       "      <td>Male</td>\n",
       "    </tr>\n",
       "    <tr>\n",
       "      <th>223</th>\n",
       "      <td>Gentoo</td>\n",
       "      <td>Biscoe</td>\n",
       "      <td>50.0</td>\n",
       "      <td>15.2</td>\n",
       "      <td>218.0</td>\n",
       "      <td>5700.0</td>\n",
       "      <td>Male</td>\n",
       "    </tr>\n",
       "    <tr>\n",
       "      <th>224</th>\n",
       "      <td>Gentoo</td>\n",
       "      <td>Biscoe</td>\n",
       "      <td>47.6</td>\n",
       "      <td>14.5</td>\n",
       "      <td>215.0</td>\n",
       "      <td>5400.0</td>\n",
       "      <td>Male</td>\n",
       "    </tr>\n",
       "    <tr>\n",
       "      <th>227</th>\n",
       "      <td>Gentoo</td>\n",
       "      <td>Biscoe</td>\n",
       "      <td>46.7</td>\n",
       "      <td>15.3</td>\n",
       "      <td>219.0</td>\n",
       "      <td>5200.0</td>\n",
       "      <td>Male</td>\n",
       "    </tr>\n",
       "    <tr>\n",
       "      <th>229</th>\n",
       "      <td>Gentoo</td>\n",
       "      <td>Biscoe</td>\n",
       "      <td>46.8</td>\n",
       "      <td>15.4</td>\n",
       "      <td>215.0</td>\n",
       "      <td>5150.0</td>\n",
       "      <td>Male</td>\n",
       "    </tr>\n",
       "    <tr>\n",
       "      <th>231</th>\n",
       "      <td>Gentoo</td>\n",
       "      <td>Biscoe</td>\n",
       "      <td>49.0</td>\n",
       "      <td>16.1</td>\n",
       "      <td>216.0</td>\n",
       "      <td>5550.0</td>\n",
       "      <td>Male</td>\n",
       "    </tr>\n",
       "    <tr>\n",
       "      <th>233</th>\n",
       "      <td>Gentoo</td>\n",
       "      <td>Biscoe</td>\n",
       "      <td>48.4</td>\n",
       "      <td>14.6</td>\n",
       "      <td>213.0</td>\n",
       "      <td>5850.0</td>\n",
       "      <td>Male</td>\n",
       "    </tr>\n",
       "    <tr>\n",
       "      <th>235</th>\n",
       "      <td>Gentoo</td>\n",
       "      <td>Biscoe</td>\n",
       "      <td>49.3</td>\n",
       "      <td>15.7</td>\n",
       "      <td>217.0</td>\n",
       "      <td>5850.0</td>\n",
       "      <td>Male</td>\n",
       "    </tr>\n",
       "    <tr>\n",
       "      <th>237</th>\n",
       "      <td>Gentoo</td>\n",
       "      <td>Biscoe</td>\n",
       "      <td>49.2</td>\n",
       "      <td>15.2</td>\n",
       "      <td>221.0</td>\n",
       "      <td>6300.0</td>\n",
       "      <td>Male</td>\n",
       "    </tr>\n",
       "    <tr>\n",
       "      <th>239</th>\n",
       "      <td>Gentoo</td>\n",
       "      <td>Biscoe</td>\n",
       "      <td>48.7</td>\n",
       "      <td>15.1</td>\n",
       "      <td>222.0</td>\n",
       "      <td>5350.0</td>\n",
       "      <td>Male</td>\n",
       "    </tr>\n",
       "    <tr>\n",
       "      <th>240</th>\n",
       "      <td>Gentoo</td>\n",
       "      <td>Biscoe</td>\n",
       "      <td>50.2</td>\n",
       "      <td>14.3</td>\n",
       "      <td>218.0</td>\n",
       "      <td>5700.0</td>\n",
       "      <td>Male</td>\n",
       "    </tr>\n",
       "    <tr>\n",
       "      <th>241</th>\n",
       "      <td>Gentoo</td>\n",
       "      <td>Biscoe</td>\n",
       "      <td>45.1</td>\n",
       "      <td>14.5</td>\n",
       "      <td>215.0</td>\n",
       "      <td>5000.0</td>\n",
       "      <td>Female</td>\n",
       "    </tr>\n",
       "    <tr>\n",
       "      <th>243</th>\n",
       "      <td>Gentoo</td>\n",
       "      <td>Biscoe</td>\n",
       "      <td>46.3</td>\n",
       "      <td>15.8</td>\n",
       "      <td>215.0</td>\n",
       "      <td>5050.0</td>\n",
       "      <td>Male</td>\n",
       "    </tr>\n",
       "    <tr>\n",
       "      <th>244</th>\n",
       "      <td>Gentoo</td>\n",
       "      <td>Biscoe</td>\n",
       "      <td>42.9</td>\n",
       "      <td>13.1</td>\n",
       "      <td>215.0</td>\n",
       "      <td>5000.0</td>\n",
       "      <td>Female</td>\n",
       "    </tr>\n",
       "    <tr>\n",
       "      <th>245</th>\n",
       "      <td>Gentoo</td>\n",
       "      <td>Biscoe</td>\n",
       "      <td>46.1</td>\n",
       "      <td>15.1</td>\n",
       "      <td>215.0</td>\n",
       "      <td>5100.0</td>\n",
       "      <td>Male</td>\n",
       "    </tr>\n",
       "    <tr>\n",
       "      <th>247</th>\n",
       "      <td>Gentoo</td>\n",
       "      <td>Biscoe</td>\n",
       "      <td>47.8</td>\n",
       "      <td>15.0</td>\n",
       "      <td>215.0</td>\n",
       "      <td>5650.0</td>\n",
       "      <td>Male</td>\n",
       "    </tr>\n",
       "    <tr>\n",
       "      <th>249</th>\n",
       "      <td>Gentoo</td>\n",
       "      <td>Biscoe</td>\n",
       "      <td>50.0</td>\n",
       "      <td>15.3</td>\n",
       "      <td>220.0</td>\n",
       "      <td>5550.0</td>\n",
       "      <td>Male</td>\n",
       "    </tr>\n",
       "    <tr>\n",
       "      <th>250</th>\n",
       "      <td>Gentoo</td>\n",
       "      <td>Biscoe</td>\n",
       "      <td>47.3</td>\n",
       "      <td>15.3</td>\n",
       "      <td>222.0</td>\n",
       "      <td>5250.0</td>\n",
       "      <td>Male</td>\n",
       "    </tr>\n",
       "    <tr>\n",
       "      <th>252</th>\n",
       "      <td>Gentoo</td>\n",
       "      <td>Biscoe</td>\n",
       "      <td>45.1</td>\n",
       "      <td>14.5</td>\n",
       "      <td>207.0</td>\n",
       "      <td>5050.0</td>\n",
       "      <td>Female</td>\n",
       "    </tr>\n",
       "    <tr>\n",
       "      <th>253</th>\n",
       "      <td>Gentoo</td>\n",
       "      <td>Biscoe</td>\n",
       "      <td>59.6</td>\n",
       "      <td>17.0</td>\n",
       "      <td>230.0</td>\n",
       "      <td>6050.0</td>\n",
       "      <td>Male</td>\n",
       "    </tr>\n",
       "  </tbody>\n",
       "</table>\n",
       "</div>"
      ],
      "text/plain": [
       "    species  island  bill_length_mm  bill_depth_mm  flipper_length_mm  \\\n",
       "221  Gentoo  Biscoe            50.0           16.3              230.0   \n",
       "223  Gentoo  Biscoe            50.0           15.2              218.0   \n",
       "224  Gentoo  Biscoe            47.6           14.5              215.0   \n",
       "227  Gentoo  Biscoe            46.7           15.3              219.0   \n",
       "229  Gentoo  Biscoe            46.8           15.4              215.0   \n",
       "231  Gentoo  Biscoe            49.0           16.1              216.0   \n",
       "233  Gentoo  Biscoe            48.4           14.6              213.0   \n",
       "235  Gentoo  Biscoe            49.3           15.7              217.0   \n",
       "237  Gentoo  Biscoe            49.2           15.2              221.0   \n",
       "239  Gentoo  Biscoe            48.7           15.1              222.0   \n",
       "240  Gentoo  Biscoe            50.2           14.3              218.0   \n",
       "241  Gentoo  Biscoe            45.1           14.5              215.0   \n",
       "243  Gentoo  Biscoe            46.3           15.8              215.0   \n",
       "244  Gentoo  Biscoe            42.9           13.1              215.0   \n",
       "245  Gentoo  Biscoe            46.1           15.1              215.0   \n",
       "247  Gentoo  Biscoe            47.8           15.0              215.0   \n",
       "249  Gentoo  Biscoe            50.0           15.3              220.0   \n",
       "250  Gentoo  Biscoe            47.3           15.3              222.0   \n",
       "252  Gentoo  Biscoe            45.1           14.5              207.0   \n",
       "253  Gentoo  Biscoe            59.6           17.0              230.0   \n",
       "\n",
       "     body_mass_g     sex  \n",
       "221       5700.0    Male  \n",
       "223       5700.0    Male  \n",
       "224       5400.0    Male  \n",
       "227       5200.0    Male  \n",
       "229       5150.0    Male  \n",
       "231       5550.0    Male  \n",
       "233       5850.0    Male  \n",
       "235       5850.0    Male  \n",
       "237       6300.0    Male  \n",
       "239       5350.0    Male  \n",
       "240       5700.0    Male  \n",
       "241       5000.0  Female  \n",
       "243       5050.0    Male  \n",
       "244       5000.0  Female  \n",
       "245       5100.0    Male  \n",
       "247       5650.0    Male  \n",
       "249       5550.0    Male  \n",
       "250       5250.0    Male  \n",
       "252       5050.0  Female  \n",
       "253       6050.0    Male  "
      ]
     },
     "execution_count": 27,
     "metadata": {},
     "output_type": "execute_result"
    }
   ],
   "source": [
    "# 5000g 이상의 펭귄 출력\n",
    "\n",
    "cond_g = df_copy['body_mass_g'] >= 5000\n",
    "df_copy.loc[cond_g].head(20)"
   ]
  },
  {
   "cell_type": "code",
   "execution_count": 28,
   "id": "1fdcbb30-87c5-4846-9e15-bf90ebce2f46",
   "metadata": {},
   "outputs": [
    {
     "data": {
      "text/plain": [
       "np.float64(47.50487804878048)"
      ]
     },
     "execution_count": 28,
     "metadata": {},
     "output_type": "execute_result"
    }
   ],
   "source": [
    "# Gentoo종의 flipper_length 평균\n",
    "\n",
    "cond_gentoo = df_copy['species'] == 'Gentoo'\n",
    "df_copy.loc[cond_gentoo, 'bill_length_mm'].mean()"
   ]
  },
  {
   "cell_type": "code",
   "execution_count": 33,
   "id": "fa1c4191-1620-407b-a3a0-6fdb3236c093",
   "metadata": {},
   "outputs": [
    {
     "data": {
      "text/plain": [
       "array(['Adelie', 'Chinstrap', 'Gentoo'], dtype=object)"
      ]
     },
     "execution_count": 33,
     "metadata": {},
     "output_type": "execute_result"
    }
   ],
   "source": [
    "# Female Chinstrap종의 bill_length 높은순 정렬\n",
    "df_copy['species'].unique()"
   ]
  },
  {
   "cell_type": "code",
   "execution_count": 34,
   "id": "58a07ba5-139d-45bc-ae6e-e0ceeeae2415",
   "metadata": {},
   "outputs": [
    {
     "data": {
      "text/html": [
       "<div>\n",
       "<style scoped>\n",
       "    .dataframe tbody tr th:only-of-type {\n",
       "        vertical-align: middle;\n",
       "    }\n",
       "\n",
       "    .dataframe tbody tr th {\n",
       "        vertical-align: top;\n",
       "    }\n",
       "\n",
       "    .dataframe thead th {\n",
       "        text-align: right;\n",
       "    }\n",
       "</style>\n",
       "<table border=\"1\" class=\"dataframe\">\n",
       "  <thead>\n",
       "    <tr style=\"text-align: right;\">\n",
       "      <th></th>\n",
       "      <th>species</th>\n",
       "      <th>island</th>\n",
       "      <th>bill_length_mm</th>\n",
       "      <th>bill_depth_mm</th>\n",
       "      <th>flipper_length_mm</th>\n",
       "      <th>body_mass_g</th>\n",
       "      <th>sex</th>\n",
       "    </tr>\n",
       "  </thead>\n",
       "  <tbody>\n",
       "    <tr>\n",
       "      <th>169</th>\n",
       "      <td>Chinstrap</td>\n",
       "      <td>Dream</td>\n",
       "      <td>58.0</td>\n",
       "      <td>17.8</td>\n",
       "      <td>181.0</td>\n",
       "      <td>3700.0</td>\n",
       "      <td>Female</td>\n",
       "    </tr>\n",
       "    <tr>\n",
       "      <th>196</th>\n",
       "      <td>Chinstrap</td>\n",
       "      <td>Dream</td>\n",
       "      <td>50.9</td>\n",
       "      <td>17.9</td>\n",
       "      <td>196.0</td>\n",
       "      <td>3675.0</td>\n",
       "      <td>Female</td>\n",
       "    </tr>\n",
       "    <tr>\n",
       "      <th>178</th>\n",
       "      <td>Chinstrap</td>\n",
       "      <td>Dream</td>\n",
       "      <td>50.5</td>\n",
       "      <td>18.4</td>\n",
       "      <td>200.0</td>\n",
       "      <td>3400.0</td>\n",
       "      <td>Female</td>\n",
       "    </tr>\n",
       "    <tr>\n",
       "      <th>219</th>\n",
       "      <td>Chinstrap</td>\n",
       "      <td>Dream</td>\n",
       "      <td>50.2</td>\n",
       "      <td>18.7</td>\n",
       "      <td>198.0</td>\n",
       "      <td>3775.0</td>\n",
       "      <td>Female</td>\n",
       "    </tr>\n",
       "    <tr>\n",
       "      <th>198</th>\n",
       "      <td>Chinstrap</td>\n",
       "      <td>Dream</td>\n",
       "      <td>50.1</td>\n",
       "      <td>17.9</td>\n",
       "      <td>190.0</td>\n",
       "      <td>3400.0</td>\n",
       "      <td>Female</td>\n",
       "    </tr>\n",
       "  </tbody>\n",
       "</table>\n",
       "</div>"
      ],
      "text/plain": [
       "       species island  bill_length_mm  bill_depth_mm  flipper_length_mm  \\\n",
       "169  Chinstrap  Dream            58.0           17.8              181.0   \n",
       "196  Chinstrap  Dream            50.9           17.9              196.0   \n",
       "178  Chinstrap  Dream            50.5           18.4              200.0   \n",
       "219  Chinstrap  Dream            50.2           18.7              198.0   \n",
       "198  Chinstrap  Dream            50.1           17.9              190.0   \n",
       "\n",
       "     body_mass_g     sex  \n",
       "169       3700.0  Female  \n",
       "196       3675.0  Female  \n",
       "178       3400.0  Female  \n",
       "219       3775.0  Female  \n",
       "198       3400.0  Female  "
      ]
     },
     "execution_count": 34,
     "metadata": {},
     "output_type": "execute_result"
    }
   ],
   "source": [
    "cond1 = df_copy['species'] == 'Chinstrap'\n",
    "cond2 = df_copy['sex'] == 'Female'\n",
    "df_copy.loc[cond1 & cond2].sort_values('bill_length_mm', ascending=False).head()"
   ]
  },
  {
   "cell_type": "code",
   "execution_count": 55,
   "id": "cc44e939-b061-43b9-98a5-517c04981686",
   "metadata": {},
   "outputs": [
    {
     "name": "stdout",
     "output_type": "stream",
     "text": [
      "암컷 Adelie의 평균 몸무게는 3368g 입니다.\n",
      "수컷 Adelie의 평균 몸무게는 4043g 입니다.\n"
     ]
    }
   ],
   "source": [
    "# species(종)별 성별 구분하여 평균 몸무게 출력\n",
    "# => ex) Adelie, Female / Adelie, male / Gentoo, Female...\n",
    "\n",
    "cond_a = df_copy['species'] == 'Adelie'\n",
    "cond_a_f = df_copy['sex'] == 'Female'\n",
    "cond_a_m = df_copy['sex'] == 'Male'\n",
    "adelie_female = int(df_copy.loc[cond_a & cond_a_f, 'body_mass_g'].mean())\n",
    "adelie_male = int(df_copy.loc[cond_a & cond_a_m, 'body_mass_g'].mean())\n",
    "print(f'암컷 Adelie의 평균 몸무게는 {adelie_female}g 입니다.')\n",
    "print(f'수컷 Adelie의 평균 몸무게는 {adelie_male}g 입니다.')\n",
    "\n",
    "# Nan값 해결 후 진행"
   ]
  },
  {
   "cell_type": "code",
   "execution_count": 62,
   "id": "3da214f9-60d1-426e-a6aa-0f8fd6a08ef0",
   "metadata": {},
   "outputs": [
    {
     "name": "stdout",
     "output_type": "stream",
     "text": [
      "암컷 Adelie의 평균 몸무게는 3527g 입니다.\n",
      "수컷 Adelie의 평균 몸무게는 nang 입니다.\n"
     ]
    }
   ],
   "source": [
    "# chinstrap 수컷에 결측치가 있음\n",
    "\n",
    "cond_c = df_copy['species'] == 'Chinstrap'\n",
    "cond_c_f = df_copy['sex'] == 'Female'\n",
    "cond_c_m = df_copy['sex'] == 'male'\n",
    "chinstrap_female = int(df_copy.loc[cond_c & cond_c_f, 'body_mass_g'].mean(skipna=False))\n",
    "chinstrap_male = df_copy.loc[cond_c & cond_c_m, 'body_mass_g'].mean(skipna=False)\n",
    "print(f'암컷 chinstrap의 평균 몸무게는 {chinstrap_female}g 입니다.')\n",
    "print(f'수컷 chinstrap의 평균 몸무게는 {chinstrap_male}g 입니다.')"
   ]
  },
  {
   "cell_type": "code",
   "execution_count": 66,
   "id": "3e917971-194f-4450-9fde-7ebd57dc1c0a",
   "metadata": {},
   "outputs": [
    {
     "name": "stdout",
     "output_type": "stream",
     "text": [
      "암컷 Gentoo의 평균 몸무게는 4679g 입니다.\n",
      "수컷 Gentoo의 평균 몸무게는 nang 입니다.\n"
     ]
    }
   ],
   "source": [
    "# gentoo 수컷에 결측치가 있음\n",
    "\n",
    "cond_g = df_copy['species'] == 'Gentoo'\n",
    "cond_g_f = df_copy['sex'] == 'Female'\n",
    "cond_g_m = df_copy['sex'] == 'male'\n",
    "gentoo_female = int(df_copy.loc[cond_g & cond_g_f, 'body_mass_g'].mean(skipna=False))\n",
    "gentoo_male = df_copy.loc[cond_g & cond_g_m, 'body_mass_g'].mean(skipna=False)\n",
    "print(f'암컷 Gentoo의 평균 몸무게는 {gentoo_female}g 입니다.')\n",
    "print(f'수컷 Gentoo의 평균 몸무게는 {gentoo_male}g 입니다.')"
   ]
  },
  {
   "cell_type": "code",
   "execution_count": 71,
   "id": "5306b9af-ebb0-4412-bbeb-454abbbc3636",
   "metadata": {},
   "outputs": [
    {
     "data": {
      "text/plain": [
       "array(['Torgersen', 'Biscoe', 'Dream'], dtype=object)"
      ]
     },
     "execution_count": 71,
     "metadata": {},
     "output_type": "execute_result"
    }
   ],
   "source": [
    "df_copy['island'].unique()"
   ]
  },
  {
   "cell_type": "code",
   "execution_count": 72,
   "id": "3537c234-337c-4a7b-a9b8-72f4b0ebedb9",
   "metadata": {},
   "outputs": [
    {
     "data": {
      "text/plain": [
       "array(['Adelie', 'Chinstrap', 'Gentoo'], dtype=object)"
      ]
     },
     "execution_count": 72,
     "metadata": {},
     "output_type": "execute_result"
    }
   ],
   "source": [
    "df_copy['species'].unique()"
   ]
  },
  {
   "cell_type": "code",
   "execution_count": 75,
   "id": "b87cb274-6b47-4322-b565-3b21a2c1c543",
   "metadata": {},
   "outputs": [
    {
     "data": {
      "text/plain": [
       "species               0\n",
       "island                0\n",
       "bill_length_mm        2\n",
       "bill_depth_mm         0\n",
       "flipper_length_mm     2\n",
       "body_mass_g           2\n",
       "sex                  11\n",
       "dtype: int64"
      ]
     },
     "execution_count": 75,
     "metadata": {},
     "output_type": "execute_result"
    }
   ],
   "source": [
    "df_copy.isnull().sum()"
   ]
  },
  {
   "cell_type": "code",
   "execution_count": 77,
   "id": "e2a72144-277e-44ec-a335-06cd805e8a31",
   "metadata": {},
   "outputs": [
    {
     "data": {
      "text/plain": [
       "[(np.int64(3), np.int64(2)),\n",
       " (np.int64(3), np.int64(4)),\n",
       " (np.int64(3), np.int64(5)),\n",
       " (np.int64(3), np.int64(6)),\n",
       " (np.int64(8), np.int64(6)),\n",
       " (np.int64(9), np.int64(6)),\n",
       " (np.int64(10), np.int64(6)),\n",
       " (np.int64(11), np.int64(6)),\n",
       " (np.int64(47), np.int64(6)),\n",
       " (np.int64(246), np.int64(6)),\n",
       " (np.int64(286), np.int64(6)),\n",
       " (np.int64(324), np.int64(6)),\n",
       " (np.int64(336), np.int64(6)),\n",
       " (np.int64(339), np.int64(2)),\n",
       " (np.int64(339), np.int64(4)),\n",
       " (np.int64(339), np.int64(5)),\n",
       " (np.int64(339), np.int64(6))]"
      ]
     },
     "execution_count": 77,
     "metadata": {},
     "output_type": "execute_result"
    }
   ],
   "source": [
    "# body_mass_g 결측치 채우기\n",
    "# => 같은종 같은섬의 평균으로\n",
    "# 결측치의 위치만 뽑아낼 수 있는 함수가 있을깡...\n",
    "\n",
    "missing_positions = list(zip(*df_copy.isna().to_numpy().nonzero()))\n",
    "missing_positions"
   ]
  },
  {
   "cell_type": "code",
   "execution_count": 79,
   "id": "b96ad1cd-5d4a-4837-9875-34255789fb79",
   "metadata": {},
   "outputs": [
    {
     "name": "stdout",
     "output_type": "stream",
     "text": [
      "결측치 위치 -> 행: 3, 컬럼: bill_length_mm\n",
      "결측치 위치 -> 행: 3, 컬럼: flipper_length_mm\n",
      "결측치 위치 -> 행: 3, 컬럼: body_mass_g\n",
      "결측치 위치 -> 행: 3, 컬럼: sex\n",
      "결측치 위치 -> 행: 8, 컬럼: sex\n",
      "결측치 위치 -> 행: 9, 컬럼: sex\n",
      "결측치 위치 -> 행: 10, 컬럼: sex\n",
      "결측치 위치 -> 행: 11, 컬럼: sex\n",
      "결측치 위치 -> 행: 47, 컬럼: sex\n",
      "결측치 위치 -> 행: 246, 컬럼: sex\n",
      "결측치 위치 -> 행: 286, 컬럼: sex\n",
      "결측치 위치 -> 행: 324, 컬럼: sex\n",
      "결측치 위치 -> 행: 336, 컬럼: sex\n",
      "결측치 위치 -> 행: 339, 컬럼: bill_length_mm\n",
      "결측치 위치 -> 행: 339, 컬럼: flipper_length_mm\n",
      "결측치 위치 -> 행: 339, 컬럼: body_mass_g\n",
      "결측치 위치 -> 행: 339, 컬럼: sex\n"
     ]
    }
   ],
   "source": [
    "missing_po = [(df_copy.index[row], df_copy.columns[col]) for row, col in zip(*df_copy.isna().to_numpy().nonzero())]\n",
    "\n",
    "# 결과 출력\n",
    "for index, column in missing_po:\n",
    "    print(f\"결측치 위치 -> 행: {index}, 컬럼: {column}\")"
   ]
  }
 ],
 "metadata": {
  "kernelspec": {
   "display_name": "Python 3 (ipykernel)",
   "language": "python",
   "name": "python3"
  },
  "language_info": {
   "codemirror_mode": {
    "name": "ipython",
    "version": 3
   },
   "file_extension": ".py",
   "mimetype": "text/x-python",
   "name": "python",
   "nbconvert_exporter": "python",
   "pygments_lexer": "ipython3",
   "version": "3.13.2"
  }
 },
 "nbformat": 4,
 "nbformat_minor": 5
}
