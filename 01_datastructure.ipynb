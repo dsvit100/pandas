{
 "cells": [
  {
   "cell_type": "markdown",
   "id": "908d8dda-02e5-4f4e-9c4f-4b295db8601b",
   "metadata": {},
   "source": [
    "# Series\n",
    "- pandas에서 사용하는 1차원 배열\n",
    "- index를 사용할 수 있습니다."
   ]
  },
  {
   "cell_type": "code",
   "execution_count": 4,
   "id": "0c6b3746-1ce5-428e-9550-4c24ab340209",
   "metadata": {},
   "outputs": [],
   "source": [
    "import pandas as pd\n",
    "import numpy as np"
   ]
  },
  {
   "cell_type": "code",
   "execution_count": 5,
   "id": "cd857687-8c30-4134-9853-22045deaff06",
   "metadata": {},
   "outputs": [
    {
     "name": "stdout",
     "output_type": "stream",
     "text": [
      "[100 101 102 103 104 105 106 107 108 109]\n"
     ]
    }
   ],
   "source": [
    "arr = np.arange(100, 110)\n",
    "print(arr)"
   ]
  },
  {
   "cell_type": "code",
   "execution_count": 6,
   "id": "d4bf9f15-1e22-43d6-aa80-7dac82b5bfb3",
   "metadata": {},
   "outputs": [
    {
     "name": "stdout",
     "output_type": "stream",
     "text": [
      "0    100\n",
      "1    101\n",
      "2    102\n",
      "3    103\n",
      "4    104\n",
      "5    105\n",
      "6    106\n",
      "7    107\n",
      "8    108\n",
      "9    109\n",
      "dtype: int64\n"
     ]
    }
   ],
   "source": [
    "s = pd.Series(arr)\n",
    "# Series는 데이터가 위에서부터 아래로 쌓임\n",
    "# 정수는 기본적으로 int64\n",
    "print(s)"
   ]
  },
  {
   "cell_type": "code",
   "execution_count": 7,
   "id": "2a0826b3-46a7-4707-9852-3cb71fe78394",
   "metadata": {},
   "outputs": [
    {
     "name": "stdout",
     "output_type": "stream",
     "text": [
      "0    100.0\n",
      "1    101.0\n",
      "2    102.0\n",
      "3    103.0\n",
      "4    104.0\n",
      "5    105.0\n",
      "6    106.0\n",
      "7    107.0\n",
      "8    108.0\n",
      "9    109.0\n",
      "dtype: float32\n"
     ]
    }
   ],
   "source": [
    "s = pd.Series(arr, dtype='float32')\n",
    "print(s)"
   ]
  },
  {
   "cell_type": "code",
   "execution_count": 8,
   "id": "b70853f1-d5c0-4b2e-aa48-d4df269dc532",
   "metadata": {},
   "outputs": [
    {
     "name": "stdout",
     "output_type": "stream",
     "text": [
      "0     kim\n",
      "1     lee\n",
      "2    park\n",
      "dtype: object\n"
     ]
    }
   ],
   "source": [
    "s = pd.Series(['kim', 'lee', 'park'])\n",
    "print(s)\n",
    "# dtype = object (pandas 내부에서는 스트링을 object라고 함)"
   ]
  },
  {
   "cell_type": "code",
   "execution_count": 9,
   "id": "90d35479-b840-4a85-82c9-c38572dc9a74",
   "metadata": {},
   "outputs": [
    {
     "name": "stdout",
     "output_type": "stream",
     "text": [
      "0        1\n",
      "1        2\n",
      "2        3\n",
      "3        1\n",
      "4        2\n",
      "5    hello\n",
      "dtype: object\n"
     ]
    }
   ],
   "source": [
    "s = pd.Series([1, 2, 3, '1', '2', 'hello'])\n",
    "print(s)\n",
    "# 이 전체의 타입은? = 포괄적인 답변을 해줌"
   ]
  },
  {
   "cell_type": "code",
   "execution_count": 10,
   "id": "6ceee61d-1b07-4b60-b25f-6855a95c3527",
   "metadata": {},
   "outputs": [
    {
     "data": {
      "text/plain": [
       "'hello'"
      ]
     },
     "execution_count": 10,
     "metadata": {},
     "output_type": "execute_result"
    }
   ],
   "source": [
    "s[5]\n",
    "# s[-1]"
   ]
  },
  {
   "cell_type": "code",
   "execution_count": 11,
   "id": "988cc6c3-57fc-457f-8d8d-ccde358e37d8",
   "metadata": {},
   "outputs": [
    {
     "data": {
      "text/plain": [
       "RangeIndex(start=0, stop=6, step=1)"
      ]
     },
     "execution_count": 11,
     "metadata": {},
     "output_type": "execute_result"
    }
   ],
   "source": [
    "s.index\n",
    "# 인덱스의 시작점과 끝점, 어떤 간격으로 인덱스가 되어있는지 알려줌"
   ]
  },
  {
   "cell_type": "code",
   "execution_count": 12,
   "id": "df89c0c3-d1db-4385-8070-8cccc7b45315",
   "metadata": {},
   "outputs": [
    {
     "data": {
      "text/plain": [
       "a     kim\n",
       "b     lee\n",
       "c    park\n",
       "dtype: object"
      ]
     },
     "execution_count": 12,
     "metadata": {},
     "output_type": "execute_result"
    }
   ],
   "source": [
    "# 데이터 프레임에서 인덱스(칼럼)를 지정할 수 있음\n",
    "pd.Series(['kim', 'lee', 'park'], index=['a', 'b', 'c'])"
   ]
  },
  {
   "cell_type": "code",
   "execution_count": 13,
   "id": "452e0c6a-ac31-4445-a0a4-61b745511b6c",
   "metadata": {},
   "outputs": [],
   "source": [
    "names = pd.Series(['kim', 'lee', 'park'], index=['a', 'b', 'c'])"
   ]
  },
  {
   "cell_type": "code",
   "execution_count": 14,
   "id": "8018de34-dc38-4ebd-a65e-f40b651905ef",
   "metadata": {},
   "outputs": [
    {
     "name": "stderr",
     "output_type": "stream",
     "text": [
      "C:\\Users\\유승준\\AppData\\Local\\Temp\\ipykernel_20768\\5838228.py:1: FutureWarning: Series.__getitem__ treating keys as positions is deprecated. In a future version, integer keys will always be treated as labels (consistent with DataFrame behavior). To access a value by position, use `ser.iloc[pos]`\n",
      "  names[0]\n"
     ]
    },
    {
     "data": {
      "text/plain": [
       "'kim'"
      ]
     },
     "execution_count": 14,
     "metadata": {},
     "output_type": "execute_result"
    }
   ],
   "source": [
    "names[0]\n",
    "# 내가 인덱스를 지정했다면 지정한 인덱스로 값을 불러오는 것이 좋음\n",
    "# (오류남, .iloc를 통해서 숫자 인덱싱 오류없이 출력 가능)"
   ]
  },
  {
   "cell_type": "code",
   "execution_count": 15,
   "id": "a5e80313-9221-495e-ab9e-de147ec565c1",
   "metadata": {},
   "outputs": [
    {
     "data": {
      "text/plain": [
       "'kim'"
      ]
     },
     "execution_count": 15,
     "metadata": {},
     "output_type": "execute_result"
    }
   ],
   "source": [
    "names.iloc[0]"
   ]
  },
  {
   "cell_type": "code",
   "execution_count": 16,
   "id": "aef38c4d-afe7-4f2b-a5c3-a0c67a63b58a",
   "metadata": {},
   "outputs": [
    {
     "data": {
      "text/plain": [
       "'kim'"
      ]
     },
     "execution_count": 16,
     "metadata": {},
     "output_type": "execute_result"
    }
   ],
   "source": [
    "names['a']"
   ]
  },
  {
   "cell_type": "code",
   "execution_count": 17,
   "id": "5452f5ac-23ce-4252-943e-cd4dfef38b5b",
   "metadata": {},
   "outputs": [
    {
     "data": {
      "text/plain": [
       "Index(['a', 'b', 'c'], dtype='object')"
      ]
     },
     "execution_count": 17,
     "metadata": {},
     "output_type": "execute_result"
    }
   ],
   "source": [
    "names.index"
   ]
  },
  {
   "cell_type": "code",
   "execution_count": 18,
   "id": "e5ac9c27-3bef-4079-ad01-d800c40a9f5d",
   "metadata": {},
   "outputs": [
    {
     "data": {
      "text/plain": [
       "array(['kim', 'lee', 'park'], dtype=object)"
      ]
     },
     "execution_count": 18,
     "metadata": {},
     "output_type": "execute_result"
    }
   ],
   "source": [
    "names.values"
   ]
  },
  {
   "cell_type": "code",
   "execution_count": 19,
   "id": "b790b436-54cc-4013-aec4-aa64538b0573",
   "metadata": {},
   "outputs": [
    {
     "data": {
      "text/plain": [
       "1"
      ]
     },
     "execution_count": 19,
     "metadata": {},
     "output_type": "execute_result"
    }
   ],
   "source": [
    "names.ndim  # 차원 정보"
   ]
  },
  {
   "cell_type": "code",
   "execution_count": 20,
   "id": "99381b36-dbd4-4078-a530-66069ebd2780",
   "metadata": {},
   "outputs": [
    {
     "data": {
      "text/plain": [
       "(3,)"
      ]
     },
     "execution_count": 20,
     "metadata": {},
     "output_type": "execute_result"
    }
   ],
   "source": [
    "names.shape "
   ]
  },
  {
   "cell_type": "markdown",
   "id": "b327d696-6a79-463d-91fe-6422fb8a649f",
   "metadata": {},
   "source": [
    "# NaN(Not a Number)"
   ]
  },
  {
   "cell_type": "code",
   "execution_count": 21,
   "id": "c9e4c2da-ff23-49fd-8900-1cfe6219872b",
   "metadata": {},
   "outputs": [
    {
     "name": "stdout",
     "output_type": "stream",
     "text": [
      "0    1.0\n",
      "1    2.0\n",
      "2    3.0\n",
      "3    NaN\n",
      "dtype: float64\n"
     ]
    }
   ],
   "source": [
    "s = pd.Series([1, 2, 3, np.nan])\n",
    "print(s)"
   ]
  },
  {
   "cell_type": "markdown",
   "id": "e2a2622f-af50-47a9-9e28-aff86338a178",
   "metadata": {},
   "source": [
    "# fancy indexing\n",
    "- 특정값만 뽑아 슬라이싱 원할 경우"
   ]
  },
  {
   "cell_type": "code",
   "execution_count": 22,
   "id": "90b2404b-a7ea-436c-976e-47791137bf21",
   "metadata": {},
   "outputs": [
    {
     "name": "stdout",
     "output_type": "stream",
     "text": [
      "a    banana\n",
      "b     apple\n",
      "c     grape\n",
      "d       NaN\n",
      "dtype: object\n"
     ]
    }
   ],
   "source": [
    "f = ['banana', 'apple', 'grape', np.nan]\n",
    "s = pd.Series(f, index=list('abcd'))\n",
    "# s = pd.Series(f, index=['a', 'b'...])\n",
    "print(s)"
   ]
  },
  {
   "cell_type": "code",
   "execution_count": 23,
   "id": "6933a286-e96c-472c-b3aa-34ada3130a0a",
   "metadata": {},
   "outputs": [
    {
     "data": {
      "text/plain": [
       "'banana'"
      ]
     },
     "execution_count": 23,
     "metadata": {},
     "output_type": "execute_result"
    }
   ],
   "source": [
    "s['a']"
   ]
  },
  {
   "cell_type": "code",
   "execution_count": 73,
   "id": "95cfd7da-d5f9-48df-8905-81904c086e67",
   "metadata": {},
   "outputs": [
    {
     "data": {
      "text/plain": [
       "d       NaN\n",
       "a    banana\n",
       "dtype: object"
      ]
     },
     "execution_count": 73,
     "metadata": {},
     "output_type": "execute_result"
    }
   ],
   "source": [
    "s[['d', 'a']]\n",
    "# 인덱싱하려는 곳에 리스트를 넣어주기"
   ]
  },
  {
   "cell_type": "code",
   "execution_count": 24,
   "id": "f5945db0-33c1-42b3-87e2-bc70ff7deb21",
   "metadata": {},
   "outputs": [
    {
     "name": "stderr",
     "output_type": "stream",
     "text": [
      "C:\\Users\\유승준\\AppData\\Local\\Temp\\ipykernel_20768\\1367491741.py:1: FutureWarning: Series.__getitem__ treating keys as positions is deprecated. In a future version, integer keys will always be treated as labels (consistent with DataFrame behavior). To access a value by position, use `ser.iloc[pos]`\n",
      "  s[[3, 1]]\n"
     ]
    },
    {
     "data": {
      "text/plain": [
       "d      NaN\n",
       "b    apple\n",
       "dtype: object"
      ]
     },
     "execution_count": 24,
     "metadata": {},
     "output_type": "execute_result"
    }
   ],
   "source": [
    "s[[3, 1]]"
   ]
  },
  {
   "cell_type": "code",
   "execution_count": 25,
   "id": "04d93905-a358-4832-92ba-86d4fa246570",
   "metadata": {},
   "outputs": [
    {
     "data": {
      "text/plain": [
       "d      NaN\n",
       "b    apple\n",
       "dtype: object"
      ]
     },
     "execution_count": 25,
     "metadata": {},
     "output_type": "execute_result"
    }
   ],
   "source": [
    "s.iloc[[3, 1]]"
   ]
  },
  {
   "cell_type": "markdown",
   "id": "363ba354-1aea-4616-ae07-0a0d425c6c00",
   "metadata": {},
   "source": [
    "## bool indexing"
   ]
  },
  {
   "cell_type": "code",
   "execution_count": 26,
   "id": "28d85c57-c7fb-4fa2-8e6d-114d02008aef",
   "metadata": {},
   "outputs": [
    {
     "data": {
      "text/plain": [
       "a    banana\n",
       "b     apple\n",
       "c     grape\n",
       "d       NaN\n",
       "dtype: object"
      ]
     },
     "execution_count": 26,
     "metadata": {},
     "output_type": "execute_result"
    }
   ],
   "source": [
    "s"
   ]
  },
  {
   "cell_type": "code",
   "execution_count": 27,
   "id": "f6921a00-4b65-4ac4-a106-bdd7bf9344d5",
   "metadata": {},
   "outputs": [
    {
     "data": {
      "text/plain": [
       "a    banana\n",
       "c     grape\n",
       "dtype: object"
      ]
     },
     "execution_count": 27,
     "metadata": {},
     "output_type": "execute_result"
    }
   ],
   "source": [
    "s[[True, False, True, False]]"
   ]
  },
  {
   "cell_type": "code",
   "execution_count": 28,
   "id": "338ac672-cf8d-485b-8bd9-b72a2affc65a",
   "metadata": {},
   "outputs": [
    {
     "data": {
      "text/plain": [
       "a     True\n",
       "b    False\n",
       "c    False\n",
       "d    False\n",
       "dtype: bool"
      ]
     },
     "execution_count": 28,
     "metadata": {},
     "output_type": "execute_result"
    }
   ],
   "source": [
    "s == 'banana'"
   ]
  },
  {
   "cell_type": "code",
   "execution_count": 31,
   "id": "89026638-9ace-4a99-be93-ae3fe5b23eed",
   "metadata": {},
   "outputs": [
    {
     "data": {
      "text/plain": [
       "Series([], dtype: int64)"
      ]
     },
     "execution_count": 31,
     "metadata": {},
     "output_type": "execute_result"
    }
   ],
   "source": [
    "s[s == 'banana']\n",
    "# 컨디션(조건)을 따로 만들고 컨디션에 따라 필터링을 해야할 때"
   ]
  },
  {
   "cell_type": "code",
   "execution_count": 32,
   "id": "f9948893-fb9a-486e-bae6-f90ccebcdc4a",
   "metadata": {},
   "outputs": [],
   "source": [
    "s = pd.Series([1, 2, 3, 4, 5, 6])"
   ]
  },
  {
   "cell_type": "code",
   "execution_count": 33,
   "id": "ac3e48b4-afc7-4399-bc00-5a09e62a2ba3",
   "metadata": {},
   "outputs": [
    {
     "data": {
      "text/plain": [
       "0    False\n",
       "1    False\n",
       "2    False\n",
       "3     True\n",
       "4     True\n",
       "5     True\n",
       "dtype: bool"
      ]
     },
     "execution_count": 33,
     "metadata": {},
     "output_type": "execute_result"
    }
   ],
   "source": [
    "s > 3"
   ]
  },
  {
   "cell_type": "code",
   "execution_count": 34,
   "id": "c0869443-747e-4e2a-96cc-ba755427791f",
   "metadata": {},
   "outputs": [
    {
     "data": {
      "text/plain": [
       "3    4\n",
       "4    5\n",
       "5    6\n",
       "dtype: int64"
      ]
     },
     "execution_count": 34,
     "metadata": {},
     "output_type": "execute_result"
    }
   ],
   "source": [
    "s[s > 3] # True인 값만 출력, 값의 앞에서부터 뽑혀나옴(정렬X)"
   ]
  },
  {
   "cell_type": "markdown",
   "id": "695f7fd6-816e-4cfb-9bd6-d68cf3e3307d",
   "metadata": {},
   "source": [
    "## 결측치(NaN) 처리"
   ]
  },
  {
   "cell_type": "code",
   "execution_count": 93,
   "id": "774f8c4f-97fb-4229-bbc0-8d479cd80d47",
   "metadata": {},
   "outputs": [
    {
     "name": "stdout",
     "output_type": "stream",
     "text": [
      "0     1.0\n",
      "1     3.0\n",
      "2     NaN\n",
      "3    10.0\n",
      "4    11.0\n",
      "5     NaN\n",
      "dtype: float64\n"
     ]
    }
   ],
   "source": [
    "# 결측치가 포함되어 있는 자료 만들기\n",
    "s = pd.Series([1, 3, np.nan, 10, 11, np.nan])\n",
    "print(s)"
   ]
  },
  {
   "cell_type": "code",
   "execution_count": 96,
   "id": "6e83675f-39d6-4d8e-9de7-0d24af24c093",
   "metadata": {},
   "outputs": [
    {
     "data": {
      "text/plain": [
       "0    False\n",
       "1    False\n",
       "2     True\n",
       "3    False\n",
       "4    False\n",
       "5     True\n",
       "dtype: bool"
      ]
     },
     "execution_count": 96,
     "metadata": {},
     "output_type": "execute_result"
    }
   ],
   "source": [
    "s.isnull()\n",
    "# 내가 가지고 있는 리스트 중 nan값이 있나용"
   ]
  },
  {
   "cell_type": "code",
   "execution_count": 101,
   "id": "e6e75f01-1a02-4c96-900f-f4656c8955a2",
   "metadata": {},
   "outputs": [
    {
     "data": {
      "text/plain": [
       "0    False\n",
       "1    False\n",
       "2     True\n",
       "3    False\n",
       "4    False\n",
       "5     True\n",
       "dtype: bool"
      ]
     },
     "execution_count": 101,
     "metadata": {},
     "output_type": "execute_result"
    }
   ],
   "source": [
    "s.isna()\n",
    "# = isnull과 같음"
   ]
  },
  {
   "cell_type": "code",
   "execution_count": 99,
   "id": "403e8d41-e7a2-4ccc-93d8-12a7f013ea79",
   "metadata": {},
   "outputs": [
    {
     "data": {
      "text/plain": [
       "2   NaN\n",
       "5   NaN\n",
       "dtype: float64"
      ]
     },
     "execution_count": 99,
     "metadata": {},
     "output_type": "execute_result"
    }
   ],
   "source": [
    "s[s.isnull()] # null값만 뽑기"
   ]
  },
  {
   "cell_type": "code",
   "execution_count": 98,
   "id": "b045f53d-06dc-4f84-92da-af24db267ac5",
   "metadata": {},
   "outputs": [
    {
     "data": {
      "text/plain": [
       "0     1.0\n",
       "1     3.0\n",
       "3    10.0\n",
       "4    11.0\n",
       "dtype: float64"
      ]
     },
     "execution_count": 98,
     "metadata": {},
     "output_type": "execute_result"
    }
   ],
   "source": [
    "s[s.notnull()] # null값이 아닌 값만 뽑기"
   ]
  },
  {
   "cell_type": "code",
   "execution_count": 105,
   "id": "4665862a-22e8-487e-a3e5-e2b54faab556",
   "metadata": {},
   "outputs": [
    {
     "data": {
      "text/plain": [
       "0     1.0\n",
       "1     3.0\n",
       "3    10.0\n",
       "4    11.0\n",
       "dtype: float64"
      ]
     },
     "execution_count": 105,
     "metadata": {},
     "output_type": "execute_result"
    }
   ],
   "source": [
    "s[s.notna()]\n",
    "# s.notnull과 같음"
   ]
  },
  {
   "cell_type": "markdown",
   "id": "15cb38ef-f5ec-4a6a-8d97-875cb3934d78",
   "metadata": {},
   "source": [
    "# slicing"
   ]
  },
  {
   "cell_type": "code",
   "execution_count": 111,
   "id": "1c894e1a-b4d2-49ee-893a-7fc940f60838",
   "metadata": {},
   "outputs": [
    {
     "data": {
      "text/plain": [
       "1    3.0\n",
       "2    NaN\n",
       "dtype: float64"
      ]
     },
     "execution_count": 111,
     "metadata": {},
     "output_type": "execute_result"
    }
   ],
   "source": [
    "s[1:3] # 슬라이싱"
   ]
  },
  {
   "cell_type": "code",
   "execution_count": 38,
   "id": "c63d418c-49cf-49ee-8b23-b5cb0e29fc7c",
   "metadata": {},
   "outputs": [
    {
     "data": {
      "text/plain": [
       "a    1\n",
       "b    2\n",
       "dtype: int64"
      ]
     },
     "execution_count": 38,
     "metadata": {},
     "output_type": "execute_result"
    }
   ],
   "source": [
    "s = pd.Series([1, 2, 3], index=list(('abc')))\n",
    "s[1:2]\n",
    "s['a':'b']"
   ]
  },
  {
   "cell_type": "markdown",
   "id": "b1506563-c947-4ff9-9325-d371b41fa045",
   "metadata": {},
   "source": [
    "# DataFrame\n",
    "- 2차원 데이터 구조 (excel, sheet와 유사)\n",
    "- 행(row), 열(calumn)"
   ]
  },
  {
   "cell_type": "code",
   "execution_count": 120,
   "id": "80ddb446-0a65-42ac-a86b-ff103823599a",
   "metadata": {},
   "outputs": [
    {
     "data": {
      "text/html": [
       "<div>\n",
       "<style scoped>\n",
       "    .dataframe tbody tr th:only-of-type {\n",
       "        vertical-align: middle;\n",
       "    }\n",
       "\n",
       "    .dataframe tbody tr th {\n",
       "        vertical-align: top;\n",
       "    }\n",
       "\n",
       "    .dataframe thead th {\n",
       "        text-align: right;\n",
       "    }\n",
       "</style>\n",
       "<table border=\"1\" class=\"dataframe\">\n",
       "  <thead>\n",
       "    <tr style=\"text-align: right;\">\n",
       "      <th></th>\n",
       "      <th>0</th>\n",
       "      <th>1</th>\n",
       "      <th>2</th>\n",
       "    </tr>\n",
       "  </thead>\n",
       "  <tbody>\n",
       "    <tr>\n",
       "      <th>0</th>\n",
       "      <td>1</td>\n",
       "      <td>2</td>\n",
       "      <td>3</td>\n",
       "    </tr>\n",
       "    <tr>\n",
       "      <th>1</th>\n",
       "      <td>4</td>\n",
       "      <td>5</td>\n",
       "      <td>6</td>\n",
       "    </tr>\n",
       "    <tr>\n",
       "      <th>2</th>\n",
       "      <td>7</td>\n",
       "      <td>8</td>\n",
       "      <td>9</td>\n",
       "    </tr>\n",
       "  </tbody>\n",
       "</table>\n",
       "</div>"
      ],
      "text/plain": [
       "   0  1  2\n",
       "0  1  2  3\n",
       "1  4  5  6\n",
       "2  7  8  9"
      ]
     },
     "execution_count": 120,
     "metadata": {},
     "output_type": "execute_result"
    }
   ],
   "source": [
    "d = pd.DataFrame([\n",
    "    [1, 2, 3],\n",
    "    [4, 5, 6],\n",
    "    [7, 8, 9]\n",
    "])\n",
    "d\n",
    "\n",
    "# jupyter에서 판다스를 이용하는 경우 print를 써서 출력하는 것보다\n",
    "# 바로 값을 출력하는 편이 인덱스에 음영처리 되어서 편리"
   ]
  },
  {
   "cell_type": "code",
   "execution_count": 130,
   "id": "9f56b825-eb3d-4fe5-a576-8e3a80155f82",
   "metadata": {},
   "outputs": [
    {
     "data": {
      "text/html": [
       "<div>\n",
       "<style scoped>\n",
       "    .dataframe tbody tr th:only-of-type {\n",
       "        vertical-align: middle;\n",
       "    }\n",
       "\n",
       "    .dataframe tbody tr th {\n",
       "        vertical-align: top;\n",
       "    }\n",
       "\n",
       "    .dataframe thead th {\n",
       "        text-align: right;\n",
       "    }\n",
       "</style>\n",
       "<table border=\"1\" class=\"dataframe\">\n",
       "  <thead>\n",
       "    <tr style=\"text-align: right;\">\n",
       "      <th></th>\n",
       "      <th>가</th>\n",
       "      <th>나</th>\n",
       "      <th>다</th>\n",
       "    </tr>\n",
       "  </thead>\n",
       "  <tbody>\n",
       "    <tr>\n",
       "      <th>0</th>\n",
       "      <td>1</td>\n",
       "      <td>2</td>\n",
       "      <td>3</td>\n",
       "    </tr>\n",
       "    <tr>\n",
       "      <th>1</th>\n",
       "      <td>4</td>\n",
       "      <td>5</td>\n",
       "      <td>6</td>\n",
       "    </tr>\n",
       "    <tr>\n",
       "      <th>2</th>\n",
       "      <td>7</td>\n",
       "      <td>8</td>\n",
       "      <td>9</td>\n",
       "    </tr>\n",
       "  </tbody>\n",
       "</table>\n",
       "</div>"
      ],
      "text/plain": [
       "   가  나  다\n",
       "0  1  2  3\n",
       "1  4  5  6\n",
       "2  7  8  9"
      ]
     },
     "execution_count": 130,
     "metadata": {},
     "output_type": "execute_result"
    }
   ],
   "source": [
    "d = pd.DataFrame([\n",
    "    [1, 2, 3],\n",
    "    [4, 5, 6],\n",
    "    [7, 8, 9]\n",
    "], columns=['가', '나', '다'])\n",
    "d"
   ]
  },
  {
   "cell_type": "code",
   "execution_count": 41,
   "id": "5e6d228f-e9b0-4b1b-8dc0-64850694b982",
   "metadata": {},
   "outputs": [
    {
     "data": {
      "text/html": [
       "<div>\n",
       "<style scoped>\n",
       "    .dataframe tbody tr th:only-of-type {\n",
       "        vertical-align: middle;\n",
       "    }\n",
       "\n",
       "    .dataframe tbody tr th {\n",
       "        vertical-align: top;\n",
       "    }\n",
       "\n",
       "    .dataframe thead th {\n",
       "        text-align: right;\n",
       "    }\n",
       "</style>\n",
       "<table border=\"1\" class=\"dataframe\">\n",
       "  <thead>\n",
       "    <tr style=\"text-align: right;\">\n",
       "      <th></th>\n",
       "      <th>name</th>\n",
       "      <th>age</th>\n",
       "    </tr>\n",
       "  </thead>\n",
       "  <tbody>\n",
       "    <tr>\n",
       "      <th>0</th>\n",
       "      <td>kim</td>\n",
       "      <td>10</td>\n",
       "    </tr>\n",
       "    <tr>\n",
       "      <th>1</th>\n",
       "      <td>lee</td>\n",
       "      <td>20</td>\n",
       "    </tr>\n",
       "    <tr>\n",
       "      <th>2</th>\n",
       "      <td>park</td>\n",
       "      <td>30</td>\n",
       "    </tr>\n",
       "  </tbody>\n",
       "</table>\n",
       "</div>"
      ],
      "text/plain": [
       "   name  age\n",
       "0   kim   10\n",
       "1   lee   20\n",
       "2  park   30"
      ]
     },
     "execution_count": 41,
     "metadata": {},
     "output_type": "execute_result"
    }
   ],
   "source": [
    "info = {\n",
    "    'name': ['kim', 'lee', 'park'],\n",
    "    'age': [10, 20, 30]\n",
    "}\n",
    "\n",
    "info_df = pd.DataFrame(info)\n",
    "\n",
    "info_df"
   ]
  },
  {
   "cell_type": "code",
   "execution_count": 40,
   "id": "fa67156c-3637-4dd1-ac2c-f2ca0c4a8d63",
   "metadata": {},
   "outputs": [
    {
     "data": {
      "text/plain": [
       "RangeIndex(start=0, stop=3, step=1)"
      ]
     },
     "execution_count": 40,
     "metadata": {},
     "output_type": "execute_result"
    }
   ],
   "source": [
    "info_df.index\n",
    "# 인덱스 접근"
   ]
  },
  {
   "cell_type": "code",
   "execution_count": 143,
   "id": "34f62668-33c0-42af-8e16-4c122f12a1bf",
   "metadata": {},
   "outputs": [
    {
     "data": {
      "text/plain": [
       "Index(['name', 'age'], dtype='object')"
      ]
     },
     "execution_count": 143,
     "metadata": {},
     "output_type": "execute_result"
    }
   ],
   "source": [
    "info_df.columns\n",
    "# 칼럼 접근"
   ]
  },
  {
   "cell_type": "code",
   "execution_count": 142,
   "id": "8df1315c-d97d-4dfc-a5ef-66b01760dd88",
   "metadata": {},
   "outputs": [
    {
     "data": {
      "text/plain": [
       "array([['kim', 10],\n",
       "       ['lee', 20],\n",
       "       ['park', 30]], dtype=object)"
      ]
     },
     "execution_count": 142,
     "metadata": {},
     "output_type": "execute_result"
    }
   ],
   "source": [
    "info_df.values\n",
    "# 데이터 접근"
   ]
  },
  {
   "cell_type": "code",
   "execution_count": 146,
   "id": "69cf77ef-b762-4729-be12-f6ee6dfee93d",
   "metadata": {},
   "outputs": [
    {
     "data": {
      "text/plain": [
       "name    object\n",
       "age      int64\n",
       "dtype: object"
      ]
     },
     "execution_count": 146,
     "metadata": {},
     "output_type": "execute_result"
    }
   ],
   "source": [
    "info_df.dtypes"
   ]
  },
  {
   "cell_type": "code",
   "execution_count": 149,
   "id": "6df92c01-06db-4b21-9d01-3394523a12c6",
   "metadata": {},
   "outputs": [
    {
     "data": {
      "text/html": [
       "<div>\n",
       "<style scoped>\n",
       "    .dataframe tbody tr th:only-of-type {\n",
       "        vertical-align: middle;\n",
       "    }\n",
       "\n",
       "    .dataframe tbody tr th {\n",
       "        vertical-align: top;\n",
       "    }\n",
       "\n",
       "    .dataframe thead th {\n",
       "        text-align: right;\n",
       "    }\n",
       "</style>\n",
       "<table border=\"1\" class=\"dataframe\">\n",
       "  <thead>\n",
       "    <tr style=\"text-align: right;\">\n",
       "      <th></th>\n",
       "      <th>0</th>\n",
       "      <th>1</th>\n",
       "      <th>2</th>\n",
       "    </tr>\n",
       "  </thead>\n",
       "  <tbody>\n",
       "    <tr>\n",
       "      <th>name</th>\n",
       "      <td>kim</td>\n",
       "      <td>lee</td>\n",
       "      <td>park</td>\n",
       "    </tr>\n",
       "    <tr>\n",
       "      <th>age</th>\n",
       "      <td>10</td>\n",
       "      <td>20</td>\n",
       "      <td>30</td>\n",
       "    </tr>\n",
       "  </tbody>\n",
       "</table>\n",
       "</div>"
      ],
      "text/plain": [
       "        0    1     2\n",
       "name  kim  lee  park\n",
       "age    10   20    30"
      ]
     },
     "execution_count": 149,
     "metadata": {},
     "output_type": "execute_result"
    }
   ],
   "source": [
    "info_df.T  # 대칭..."
   ]
  },
  {
   "cell_type": "markdown",
   "id": "dd33564a-024b-4a67-9058-0e8ae8a84f1d",
   "metadata": {},
   "source": [
    "## index 지정"
   ]
  },
  {
   "cell_type": "code",
   "execution_count": 150,
   "id": "7220c718-ef79-4759-81fa-7e212fe9cf92",
   "metadata": {},
   "outputs": [
    {
     "data": {
      "text/html": [
       "<div>\n",
       "<style scoped>\n",
       "    .dataframe tbody tr th:only-of-type {\n",
       "        vertical-align: middle;\n",
       "    }\n",
       "\n",
       "    .dataframe tbody tr th {\n",
       "        vertical-align: top;\n",
       "    }\n",
       "\n",
       "    .dataframe thead th {\n",
       "        text-align: right;\n",
       "    }\n",
       "</style>\n",
       "<table border=\"1\" class=\"dataframe\">\n",
       "  <thead>\n",
       "    <tr style=\"text-align: right;\">\n",
       "      <th></th>\n",
       "      <th>name</th>\n",
       "      <th>age</th>\n",
       "    </tr>\n",
       "  </thead>\n",
       "  <tbody>\n",
       "    <tr>\n",
       "      <th>0</th>\n",
       "      <td>kim</td>\n",
       "      <td>10</td>\n",
       "    </tr>\n",
       "    <tr>\n",
       "      <th>1</th>\n",
       "      <td>lee</td>\n",
       "      <td>20</td>\n",
       "    </tr>\n",
       "    <tr>\n",
       "      <th>2</th>\n",
       "      <td>park</td>\n",
       "      <td>30</td>\n",
       "    </tr>\n",
       "  </tbody>\n",
       "</table>\n",
       "</div>"
      ],
      "text/plain": [
       "   name  age\n",
       "0   kim   10\n",
       "1   lee   20\n",
       "2  park   30"
      ]
     },
     "execution_count": 150,
     "metadata": {},
     "output_type": "execute_result"
    }
   ],
   "source": [
    "info_df"
   ]
  },
  {
   "cell_type": "code",
   "execution_count": 152,
   "id": "0123c86a-2727-4912-a55c-6f860ad0b378",
   "metadata": {},
   "outputs": [
    {
     "data": {
      "text/plain": [
       "RangeIndex(start=0, stop=3, step=1)"
      ]
     },
     "execution_count": 152,
     "metadata": {},
     "output_type": "execute_result"
    }
   ],
   "source": [
    "info_df.index"
   ]
  },
  {
   "cell_type": "code",
   "execution_count": 155,
   "id": "3254ef9b-9dd7-481b-b188-faab64b31b97",
   "metadata": {},
   "outputs": [],
   "source": [
    "info_df.index = list('abc')\n",
    "# 내가 원하는 인덱스로 변경하기"
   ]
  },
  {
   "cell_type": "code",
   "execution_count": 154,
   "id": "ec7b32d8-af6f-4de6-9a86-9c4eb2dde488",
   "metadata": {},
   "outputs": [
    {
     "data": {
      "text/html": [
       "<div>\n",
       "<style scoped>\n",
       "    .dataframe tbody tr th:only-of-type {\n",
       "        vertical-align: middle;\n",
       "    }\n",
       "\n",
       "    .dataframe tbody tr th {\n",
       "        vertical-align: top;\n",
       "    }\n",
       "\n",
       "    .dataframe thead th {\n",
       "        text-align: right;\n",
       "    }\n",
       "</style>\n",
       "<table border=\"1\" class=\"dataframe\">\n",
       "  <thead>\n",
       "    <tr style=\"text-align: right;\">\n",
       "      <th></th>\n",
       "      <th>name</th>\n",
       "      <th>age</th>\n",
       "    </tr>\n",
       "  </thead>\n",
       "  <tbody>\n",
       "    <tr>\n",
       "      <th>a</th>\n",
       "      <td>kim</td>\n",
       "      <td>10</td>\n",
       "    </tr>\n",
       "    <tr>\n",
       "      <th>b</th>\n",
       "      <td>lee</td>\n",
       "      <td>20</td>\n",
       "    </tr>\n",
       "    <tr>\n",
       "      <th>c</th>\n",
       "      <td>park</td>\n",
       "      <td>30</td>\n",
       "    </tr>\n",
       "  </tbody>\n",
       "</table>\n",
       "</div>"
      ],
      "text/plain": [
       "   name  age\n",
       "a   kim   10\n",
       "b   lee   20\n",
       "c  park   30"
      ]
     },
     "execution_count": 154,
     "metadata": {},
     "output_type": "execute_result"
    }
   ],
   "source": [
    "info_df"
   ]
  },
  {
   "cell_type": "markdown",
   "id": "93be991b-be83-4b01-83d4-a5c186fdc0f7",
   "metadata": {},
   "source": [
    "## column 다루기"
   ]
  },
  {
   "cell_type": "code",
   "execution_count": 161,
   "id": "8876eb48-5dc4-4628-b2d0-179a1204d33b",
   "metadata": {},
   "outputs": [
    {
     "data": {
      "text/plain": [
       "Index(['name', 'age'], dtype='object')"
      ]
     },
     "execution_count": 161,
     "metadata": {},
     "output_type": "execute_result"
    }
   ],
   "source": [
    "info_df.columns"
   ]
  },
  {
   "cell_type": "code",
   "execution_count": 164,
   "id": "ec17e302-a9a9-45dd-a07c-683ddf9f124c",
   "metadata": {},
   "outputs": [
    {
     "data": {
      "text/plain": [
       "a     kim\n",
       "b     lee\n",
       "c    park\n",
       "Name: name, dtype: object"
      ]
     },
     "execution_count": 164,
     "metadata": {},
     "output_type": "execute_result"
    }
   ],
   "source": [
    "info_df['name']"
   ]
  },
  {
   "cell_type": "code",
   "execution_count": 167,
   "id": "8a6fce77-475f-4a7e-908a-d300f09ebb7e",
   "metadata": {},
   "outputs": [
    {
     "name": "stdout",
     "output_type": "stream",
     "text": [
      "<class 'pandas.core.series.Series'>\n"
     ]
    }
   ],
   "source": [
    "print(type(info_df['name']))\n",
    "# 칼럼으로 뽑아온 한 줄의 정보를 = 시리즈라고 부르기로 함\n",
    "# 시리즈들의 조합이 데이터프레임"
   ]
  },
  {
   "cell_type": "code",
   "execution_count": 175,
   "id": "5bc909ad-9066-4a54-9609-56cd459c0e3a",
   "metadata": {},
   "outputs": [
    {
     "data": {
      "text/html": [
       "<div>\n",
       "<style scoped>\n",
       "    .dataframe tbody tr th:only-of-type {\n",
       "        vertical-align: middle;\n",
       "    }\n",
       "\n",
       "    .dataframe tbody tr th {\n",
       "        vertical-align: top;\n",
       "    }\n",
       "\n",
       "    .dataframe thead th {\n",
       "        text-align: right;\n",
       "    }\n",
       "</style>\n",
       "<table border=\"1\" class=\"dataframe\">\n",
       "  <thead>\n",
       "    <tr style=\"text-align: right;\">\n",
       "      <th></th>\n",
       "      <th>age</th>\n",
       "      <th>name</th>\n",
       "    </tr>\n",
       "  </thead>\n",
       "  <tbody>\n",
       "    <tr>\n",
       "      <th>a</th>\n",
       "      <td>10</td>\n",
       "      <td>kim</td>\n",
       "    </tr>\n",
       "    <tr>\n",
       "      <th>b</th>\n",
       "      <td>20</td>\n",
       "      <td>lee</td>\n",
       "    </tr>\n",
       "    <tr>\n",
       "      <th>c</th>\n",
       "      <td>30</td>\n",
       "      <td>park</td>\n",
       "    </tr>\n",
       "  </tbody>\n",
       "</table>\n",
       "</div>"
      ],
      "text/plain": [
       "   age  name\n",
       "a   10   kim\n",
       "b   20   lee\n",
       "c   30  park"
      ]
     },
     "execution_count": 175,
     "metadata": {},
     "output_type": "execute_result"
    }
   ],
   "source": [
    "info_df[['age', 'name']]\n",
    "# 대괄호 안에 대괄호로 원하는 컬럼들만 가지고 오기! = fancy indexing(원하는 컬럼만 뽑아서 가져오기)"
   ]
  },
  {
   "cell_type": "code",
   "execution_count": 177,
   "id": "c28c5f62-730a-4e13-88f9-9352f0f8a0d3",
   "metadata": {},
   "outputs": [
    {
     "data": {
      "text/html": [
       "<div>\n",
       "<style scoped>\n",
       "    .dataframe tbody tr th:only-of-type {\n",
       "        vertical-align: middle;\n",
       "    }\n",
       "\n",
       "    .dataframe tbody tr th {\n",
       "        vertical-align: top;\n",
       "    }\n",
       "\n",
       "    .dataframe thead th {\n",
       "        text-align: right;\n",
       "    }\n",
       "</style>\n",
       "<table border=\"1\" class=\"dataframe\">\n",
       "  <thead>\n",
       "    <tr style=\"text-align: right;\">\n",
       "      <th></th>\n",
       "      <th>이름</th>\n",
       "      <th>age</th>\n",
       "    </tr>\n",
       "  </thead>\n",
       "  <tbody>\n",
       "    <tr>\n",
       "      <th>a</th>\n",
       "      <td>kim</td>\n",
       "      <td>10</td>\n",
       "    </tr>\n",
       "    <tr>\n",
       "      <th>b</th>\n",
       "      <td>lee</td>\n",
       "      <td>20</td>\n",
       "    </tr>\n",
       "    <tr>\n",
       "      <th>c</th>\n",
       "      <td>park</td>\n",
       "      <td>30</td>\n",
       "    </tr>\n",
       "  </tbody>\n",
       "</table>\n",
       "</div>"
      ],
      "text/plain": [
       "     이름  age\n",
       "a   kim   10\n",
       "b   lee   20\n",
       "c  park   30"
      ]
     },
     "execution_count": 177,
     "metadata": {},
     "output_type": "execute_result"
    }
   ],
   "source": [
    "info_df.rename(columns={'name': '이름'}) # 컬럼 인덱스 변경하기"
   ]
  },
  {
   "cell_type": "code",
   "execution_count": 180,
   "id": "9bd3f983-5578-4e4d-824b-1c38190109a0",
   "metadata": {},
   "outputs": [
    {
     "data": {
      "text/html": [
       "<div>\n",
       "<style scoped>\n",
       "    .dataframe tbody tr th:only-of-type {\n",
       "        vertical-align: middle;\n",
       "    }\n",
       "\n",
       "    .dataframe tbody tr th {\n",
       "        vertical-align: top;\n",
       "    }\n",
       "\n",
       "    .dataframe thead th {\n",
       "        text-align: right;\n",
       "    }\n",
       "</style>\n",
       "<table border=\"1\" class=\"dataframe\">\n",
       "  <thead>\n",
       "    <tr style=\"text-align: right;\">\n",
       "      <th></th>\n",
       "      <th>name</th>\n",
       "      <th>age</th>\n",
       "    </tr>\n",
       "  </thead>\n",
       "  <tbody>\n",
       "    <tr>\n",
       "      <th>a</th>\n",
       "      <td>kim</td>\n",
       "      <td>10</td>\n",
       "    </tr>\n",
       "    <tr>\n",
       "      <th>b</th>\n",
       "      <td>lee</td>\n",
       "      <td>20</td>\n",
       "    </tr>\n",
       "    <tr>\n",
       "      <th>c</th>\n",
       "      <td>park</td>\n",
       "      <td>30</td>\n",
       "    </tr>\n",
       "  </tbody>\n",
       "</table>\n",
       "</div>"
      ],
      "text/plain": [
       "   name  age\n",
       "a   kim   10\n",
       "b   lee   20\n",
       "c  park   30"
      ]
     },
     "execution_count": 180,
     "metadata": {},
     "output_type": "execute_result"
    }
   ],
   "source": [
    "info_df\n",
    "# 원본은 name으로 그대로 있음\n",
    "# 저장하고 싶다면 info_df로 값 재할당해줘야 함"
   ]
  },
  {
   "cell_type": "code",
   "execution_count": 182,
   "id": "cd41a530-8a1d-44fa-9d9e-6e139a20c359",
   "metadata": {},
   "outputs": [
    {
     "data": {
      "text/html": [
       "<div>\n",
       "<style scoped>\n",
       "    .dataframe tbody tr th:only-of-type {\n",
       "        vertical-align: middle;\n",
       "    }\n",
       "\n",
       "    .dataframe tbody tr th {\n",
       "        vertical-align: top;\n",
       "    }\n",
       "\n",
       "    .dataframe thead th {\n",
       "        text-align: right;\n",
       "    }\n",
       "</style>\n",
       "<table border=\"1\" class=\"dataframe\">\n",
       "  <thead>\n",
       "    <tr style=\"text-align: right;\">\n",
       "      <th></th>\n",
       "      <th>이름</th>\n",
       "      <th>age</th>\n",
       "    </tr>\n",
       "  </thead>\n",
       "  <tbody>\n",
       "    <tr>\n",
       "      <th>a</th>\n",
       "      <td>kim</td>\n",
       "      <td>10</td>\n",
       "    </tr>\n",
       "    <tr>\n",
       "      <th>b</th>\n",
       "      <td>lee</td>\n",
       "      <td>20</td>\n",
       "    </tr>\n",
       "    <tr>\n",
       "      <th>c</th>\n",
       "      <td>park</td>\n",
       "      <td>30</td>\n",
       "    </tr>\n",
       "  </tbody>\n",
       "</table>\n",
       "</div>"
      ],
      "text/plain": [
       "     이름  age\n",
       "a   kim   10\n",
       "b   lee   20\n",
       "c  park   30"
      ]
     },
     "execution_count": 182,
     "metadata": {},
     "output_type": "execute_result"
    }
   ],
   "source": [
    "info_df = info_df.rename(columns={'name': '이름'})\n",
    "info_df"
   ]
  },
  {
   "cell_type": "code",
   "execution_count": 186,
   "id": "fc974020-70a0-47da-9138-c4bc6a6013e4",
   "metadata": {},
   "outputs": [
    {
     "data": {
      "text/html": [
       "<div>\n",
       "<style scoped>\n",
       "    .dataframe tbody tr th:only-of-type {\n",
       "        vertical-align: middle;\n",
       "    }\n",
       "\n",
       "    .dataframe tbody tr th {\n",
       "        vertical-align: top;\n",
       "    }\n",
       "\n",
       "    .dataframe thead th {\n",
       "        text-align: right;\n",
       "    }\n",
       "</style>\n",
       "<table border=\"1\" class=\"dataframe\">\n",
       "  <thead>\n",
       "    <tr style=\"text-align: right;\">\n",
       "      <th></th>\n",
       "      <th>last_name</th>\n",
       "      <th>age</th>\n",
       "    </tr>\n",
       "  </thead>\n",
       "  <tbody>\n",
       "    <tr>\n",
       "      <th>a</th>\n",
       "      <td>kim</td>\n",
       "      <td>10</td>\n",
       "    </tr>\n",
       "    <tr>\n",
       "      <th>b</th>\n",
       "      <td>lee</td>\n",
       "      <td>20</td>\n",
       "    </tr>\n",
       "    <tr>\n",
       "      <th>c</th>\n",
       "      <td>park</td>\n",
       "      <td>30</td>\n",
       "    </tr>\n",
       "  </tbody>\n",
       "</table>\n",
       "</div>"
      ],
      "text/plain": [
       "  last_name  age\n",
       "a       kim   10\n",
       "b       lee   20\n",
       "c      park   30"
      ]
     },
     "execution_count": 186,
     "metadata": {},
     "output_type": "execute_result"
    }
   ],
   "source": [
    "info_df.rename(columns={'이름': 'last_name'}, inplace=True)\n",
    "info_df\n",
    "# inplace 함수를 쓰면 강제로 원본 값을 변경해줌"
   ]
  }
 ],
 "metadata": {
  "kernelspec": {
   "display_name": "Python 3 (ipykernel)",
   "language": "python",
   "name": "python3"
  },
  "language_info": {
   "codemirror_mode": {
    "name": "ipython",
    "version": 3
   },
   "file_extension": ".py",
   "mimetype": "text/x-python",
   "name": "python",
   "nbconvert_exporter": "python",
   "pygments_lexer": "ipython3",
   "version": "3.13.2"
  }
 },
 "nbformat": 4,
 "nbformat_minor": 5
}
