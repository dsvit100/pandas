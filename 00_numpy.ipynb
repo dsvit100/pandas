{
 "cells": [
  {
   "cell_type": "code",
   "execution_count": 2,
   "id": "4a98b03d-d97f-4273-8153-062549abcd1e",
   "metadata": {},
   "outputs": [],
   "source": [
    "# 책 4챕터부터 보면 됩니다여"
   ]
  },
  {
   "cell_type": "code",
   "execution_count": 3,
   "id": "5e7f3b27-f1f4-4bae-9ca3-7e71e9814b09",
   "metadata": {},
   "outputs": [],
   "source": [
    "import numpy as np  # numpy 모듈을 불러올거고 앞으로 np라고 부를게\n",
    "my_list = list(range(1000000))\n",
    "my_array = np.arange(1000000)"
   ]
  },
  {
   "cell_type": "code",
   "execution_count": 4,
   "id": "cce92ed7-91e2-4864-9813-3ba922f4d758",
   "metadata": {},
   "outputs": [
    {
     "name": "stdout",
     "output_type": "stream",
     "text": [
      "63.6 ms ± 997 μs per loop (mean ± std. dev. of 7 runs, 10 loops each)\n",
      "2.46 ms ± 36.4 μs per loop (mean ± std. dev. of 7 runs, 100 loops each)\n"
     ]
    }
   ],
   "source": [
    "# %timeit 얼마나 걸리는지 확인\n",
    "%timeit my_list2 = [i * 2 for i in my_list] #리스트 컴프리헨션 / 리스트 안에 있는 숫자에 모두 x2를 하겠다\n",
    "%timeit my_array2 = my_array * 2"
   ]
  },
  {
   "cell_type": "code",
   "execution_count": 6,
   "id": "0e27bda0-28b9-4a8c-8d91-d855cb5fe3f6",
   "metadata": {},
   "outputs": [
    {
     "name": "stdout",
     "output_type": "stream",
     "text": [
      "<class 'list'>\n",
      "[[   1.     1.2    3. ]\n",
      " [-123.   123.     0. ]]\n",
      "<class 'numpy.ndarray'>\n"
     ]
    }
   ],
   "source": [
    "# 파이썬에서 사용했던 list를 array 함수에 집어넣으면 numpy에서 사용할 수 있는 데이터 형태로 변경해줌\n",
    "a = [\n",
    "    [1, 1.2, 3],\n",
    "    [-123, 123, 0]\n",
    "]\n",
    "print(type(a))\n",
    "data = np.array(a)\n",
    "print(data)\n",
    "print(type(data))\n",
    "\n",
    "# 각각 아이템으로 곱셈을 해줌"
   ]
  },
  {
   "cell_type": "code",
   "execution_count": 12,
   "id": "8dcf991b-8a7e-4221-83d4-f9916ce260ab",
   "metadata": {},
   "outputs": [
    {
     "name": "stdout",
     "output_type": "stream",
     "text": [
      "[[   10.    12.    30.]\n",
      " [-1230.  1230.     0.]]\n",
      "[[   2.     2.4    6. ]\n",
      " [-246.   246.     0. ]]\n"
     ]
    }
   ],
   "source": [
    "# 0차원 : 스칼라(scala) = 그룹이 아닌 단일데이터, 1차원: 벡터(vector),\n",
    "# 2차원: 행렬(matrix), 3차원 이상: 텐서(tenset)\n",
    "print(data * 10)\n",
    "print(data + data)"
   ]
  },
  {
   "cell_type": "code",
   "execution_count": 16,
   "id": "03db3167-2598-4409-b718-fb49ea09e091",
   "metadata": {},
   "outputs": [
    {
     "name": "stdout",
     "output_type": "stream",
     "text": [
      "(2, 3)\n",
      "float64\n"
     ]
    }
   ],
   "source": [
    "print(data.shape)  # 가장 큰 배열부터의 데이터 모양\n",
    "# (데이터 안에 2개의 리스트와 3개의 값이 있다.)\n",
    "print(data.dtype)  # float 타입인데 64개의 칸을 이용한다라는 뜻..(2의 64제곱)"
   ]
  },
  {
   "cell_type": "markdown",
   "id": "e2adfeb2-2082-4d5c-a11f-93dbc60818a1",
   "metadata": {},
   "source": [
    "# ndarray 생성하기\n",
    "    - n차원의 배열\n",
    "    - list는 가변성이 있고, array는 고정값에 좀 더 가까움"
   ]
  },
  {
   "cell_type": "code",
   "execution_count": 7,
   "id": "4b2a250f-7988-4229-a559-43d87487b79e",
   "metadata": {},
   "outputs": [
    {
     "name": "stdout",
     "output_type": "stream",
     "text": [
      "[1 2 3 4 5]\n",
      "<class 'numpy.ndarray'>\n"
     ]
    }
   ],
   "source": [
    "data1 = [1, 2, 3, 4, 5]\n",
    "arr1 = np.array(data1)\n",
    "print(arr1)\n",
    "print(type(arr1)) # numpy 안에 있는 ndarray 입니당"
   ]
  },
  {
   "cell_type": "code",
   "execution_count": 8,
   "id": "5065fc43-6cbc-4a9d-8fef-e53e6a7fb367",
   "metadata": {},
   "outputs": [
    {
     "name": "stdout",
     "output_type": "stream",
     "text": [
      "[[1.1 2.2]\n",
      " [3.3 4.4]]\n",
      "<class 'numpy.ndarray'>\n"
     ]
    }
   ],
   "source": [
    "arr2 = np.array([[1.1, 2.2], [3.3, 4.4]])\n",
    "print(arr2)\n",
    "print(type(arr2))"
   ]
  },
  {
   "cell_type": "code",
   "execution_count": 9,
   "id": "f3b2827d-e1ef-4f2d-abdc-8464ccfc95aa",
   "metadata": {},
   "outputs": [
    {
     "name": "stdout",
     "output_type": "stream",
     "text": [
      "1\n",
      "2\n"
     ]
    }
   ],
   "source": [
    "print(arr1.ndim)  # 배열의 차원수를 보여줌 (1차원, 2차원)\n",
    "print(arr2.ndim) "
   ]
  },
  {
   "cell_type": "code",
   "execution_count": 11,
   "id": "bac6efa0-0bc1-4411-8896-cfd60e69fd5a",
   "metadata": {},
   "outputs": [
    {
     "name": "stdout",
     "output_type": "stream",
     "text": [
      "(5,)\n",
      "(2, 2)\n"
     ]
    }
   ],
   "source": [
    "print(arr1.shape)\n",
    "# 원소 5개를 가진 1차원 배열이라는 뜻\n",
    "# (5, ) <- 빈 값은 1차원 배열\n",
    "print(arr2.shape)\n",
    "# 2행 2열 구조"
   ]
  },
  {
   "cell_type": "code",
   "execution_count": 12,
   "id": "2a42a0f4-1ed6-4716-9638-0597b2deb7fd",
   "metadata": {},
   "outputs": [
    {
     "name": "stdout",
     "output_type": "stream",
     "text": [
      "[0. 0. 0. 0. 0. 0. 0. 0. 0. 0.]\n",
      "[[0. 0. 0. 0. 0.]\n",
      " [0. 0. 0. 0. 0.]\n",
      " [0. 0. 0. 0. 0.]\n",
      " [0. 0. 0. 0. 0.]\n",
      " [0. 0. 0. 0. 0.]]\n",
      "[[[ 4.67296746e-307  1.69121096e-306]\n",
      "  [-4.67218654e+043  1.42419938e-306]]\n",
      "\n",
      " [[ 7.56603881e-307  8.45603440e-307]\n",
      "  [ 4.45046008e-307  2.37667058e-312]]]\n"
     ]
    }
   ],
   "source": [
    "# print([0] * 10)\n",
    "print(np.zeros(10))  # 0으로 가득채워진 상자를 만들거야(데이터를 채울 배열 만들기)\n",
    "print(np.zeros(  (5, 5)  ))  # 5x5 형태로 만들어줌\n",
    "print(np.empty(  (2, 2, 2)  )) # 0도 의미가 있는 데이터가 되는 경우 empty 이용하는 것이 더 좋음"
   ]
  },
  {
   "cell_type": "code",
   "execution_count": 30,
   "id": "a6b084e3-9c58-490a-a50d-d1d3c50bab1b",
   "metadata": {},
   "outputs": [
    {
     "name": "stdout",
     "output_type": "stream",
     "text": [
      "[0 1 2 3 4 5 6 7 8 9]\n"
     ]
    }
   ],
   "source": [
    "print(np.arange(10))  # 0부터 9까지 있는 순서있는 배열 생성"
   ]
  },
  {
   "cell_type": "markdown",
   "id": "276e66e7-7054-4550-8b1e-b2258f4ea3b3",
   "metadata": {},
   "source": [
    "## nparray 자료형"
   ]
  },
  {
   "cell_type": "code",
   "execution_count": 44,
   "id": "0afa0052-78c2-48fb-8642-46eccd5f9ffc",
   "metadata": {},
   "outputs": [
    {
     "name": "stdout",
     "output_type": "stream",
     "text": [
      "int64\n",
      "int64\n"
     ]
    }
   ],
   "source": [
    "arr1 = np.array([1, 2, 3])\n",
    "arr2 = np.array([1, 2, 3])\n",
    "\n",
    "print(arr1.dtype)\n",
    "print(arr2.dtype)"
   ]
  },
  {
   "cell_type": "code",
   "execution_count": 45,
   "id": "ffde0436-3cc8-4376-b457-ab94a665a266",
   "metadata": {},
   "outputs": [
    {
     "name": "stdout",
     "output_type": "stream",
     "text": [
      "float64\n",
      "int32\n"
     ]
    }
   ],
   "source": [
    "# 아래와 같은 \n",
    "arr1 = np.array([1, 2, 3], dtype=np.float64) # 실수로 바꿔줘\n",
    "arr2 = np.array([1, 2, 3], dtype=np.int32) # 정수로 바꿔줘\n",
    "print(arr1.dtype)\n",
    "print(arr2.dtype)"
   ]
  },
  {
   "cell_type": "code",
   "execution_count": 50,
   "id": "b2b90bb9-dce3-47f4-88d3-982a93793f3f",
   "metadata": {},
   "outputs": [
    {
     "name": "stdout",
     "output_type": "stream",
     "text": [
      "int64\n",
      "[1. 2. 3.]\n",
      "float64\n"
     ]
    }
   ],
   "source": [
    "arr1 = np.array([1, 2, 3])\n",
    "print(arr1.dtype)\n",
    "float_arr1 = arr1.astype(np.float64)\n",
    "print(float_arr1)\n",
    "print(float_arr1.dtype)\n",
    "# astype 바꾸고 싶은 타입으로 변경해주는 함수"
   ]
  },
  {
   "cell_type": "code",
   "execution_count": 51,
   "id": "a01898c2-a3c3-406d-a0fe-9dbaddba2b52",
   "metadata": {},
   "outputs": [
    {
     "name": "stdout",
     "output_type": "stream",
     "text": [
      "float64\n",
      "[1 2 3 9]\n",
      "int64\n"
     ]
    }
   ],
   "source": [
    "arr2 = np.array([1.1, 2.2, 3.3, 9.9]) # 실수를 정수로 강제로 형변환 하는 경우 뒷자리는 버림처리됨\n",
    "print(arr2.dtype)\n",
    "int_arr2 = arr2.astype(np.int64)\n",
    "print(int_arr2)\n",
    "print(int_arr2.dtype)"
   ]
  },
  {
   "cell_type": "markdown",
   "id": "ef1df5d2-632a-495f-b375-6b1c128619fb",
   "metadata": {},
   "source": [
    "# 산술연산"
   ]
  },
  {
   "cell_type": "code",
   "execution_count": 72,
   "id": "c9714937-a193-4b65-b854-07f96fc370df",
   "metadata": {},
   "outputs": [
    {
     "name": "stdout",
     "output_type": "stream",
     "text": [
      "[[1 2 3]\n",
      " [4 5 6]]\n"
     ]
    }
   ],
   "source": [
    "arr = np.array([[1, 2, 3], [4, 5, 6]])\n",
    "print(arr)"
   ]
  },
  {
   "cell_type": "code",
   "execution_count": 71,
   "id": "0d453e03-134e-4b78-b537-2e850f122e02",
   "metadata": {},
   "outputs": [
    {
     "name": "stdout",
     "output_type": "stream",
     "text": [
      "[[ 1  4  9]\n",
      " [16 25 36]]\n"
     ]
    }
   ],
   "source": [
    "print(arr * arr)  # 같은 위치에 있는 값끼리 곱해줌"
   ]
  },
  {
   "cell_type": "code",
   "execution_count": 73,
   "id": "9973ef50-328e-4160-8d80-919aa60dde47",
   "metadata": {},
   "outputs": [
    {
     "name": "stdout",
     "output_type": "stream",
     "text": [
      "[[ 2  4  6]\n",
      " [ 8 10 12]]\n",
      "[[1.         0.5        0.33333333]\n",
      " [0.25       0.2        0.16666667]]\n",
      "[[  1   8  27]\n",
      " [ 64 125 216]]\n"
     ]
    }
   ],
   "source": [
    "print(arr + arr)\n",
    "print(1 / arr) # 1/1, 1/2, 1/3...\n",
    "print(arr ** 3)"
   ]
  },
  {
   "cell_type": "code",
   "execution_count": 74,
   "id": "dd03d36c-a83c-47de-930c-8c3fe57d40e5",
   "metadata": {},
   "outputs": [
    {
     "name": "stdout",
     "output_type": "stream",
     "text": [
      "[[1 2 3]\n",
      " [4 5 6]]\n",
      "[[3 2 1]\n",
      " [1 2 3]]\n"
     ]
    }
   ],
   "source": [
    "arr2 = np.array([[3, 2, 1], [1, 2, 3]])\n",
    "print(arr)\n",
    "print(arr2)"
   ]
  },
  {
   "cell_type": "code",
   "execution_count": 75,
   "id": "fdeefa28-f03b-4086-ac6a-fc6683ba6bb6",
   "metadata": {},
   "outputs": [
    {
     "name": "stdout",
     "output_type": "stream",
     "text": [
      "[[False False  True]\n",
      " [ True  True  True]]\n"
     ]
    }
   ],
   "source": [
    "print(arr > arr2) \n",
    "# 각각의 위치를 비교하여 True/False 출력"
   ]
  },
  {
   "cell_type": "code",
   "execution_count": 77,
   "id": "fe89ddd1-9c5c-4b87-9685-26b6f8febb19",
   "metadata": {},
   "outputs": [
    {
     "name": "stdout",
     "output_type": "stream",
     "text": [
      "[[False False  True]\n",
      " [False False False]]\n"
     ]
    }
   ],
   "source": [
    "print(arr == 3)"
   ]
  },
  {
   "cell_type": "markdown",
   "id": "203d02ca-9207-40a4-89d1-a8c6abdc94e4",
   "metadata": {},
   "source": [
    "## 색인과 슬라이싱"
   ]
  },
  {
   "cell_type": "code",
   "execution_count": 80,
   "id": "0cfbbd76-a25a-47c0-95f3-8510e22bea14",
   "metadata": {},
   "outputs": [
    {
     "name": "stdout",
     "output_type": "stream",
     "text": [
      "[0 1 2 3 4 5 6 7 8 9]\n"
     ]
    }
   ],
   "source": [
    "arr = np.arange(10)\n",
    "print(arr)"
   ]
  },
  {
   "cell_type": "code",
   "execution_count": 86,
   "id": "13f914c9-157c-4874-a9b9-0b75c20b4f76",
   "metadata": {},
   "outputs": [
    {
     "data": {
      "text/plain": [
       "np.int64(7)"
      ]
     },
     "execution_count": 86,
     "metadata": {},
     "output_type": "execute_result"
    }
   ],
   "source": [
    "arr[7] # 데이터로 접근한다면 인덱스로 접근"
   ]
  },
  {
   "cell_type": "code",
   "execution_count": 87,
   "id": "0a2bb1fa-9e1f-44e9-9a64-3b986edc9c06",
   "metadata": {},
   "outputs": [
    {
     "name": "stdout",
     "output_type": "stream",
     "text": [
      "7\n"
     ]
    }
   ],
   "source": [
    "print(arr[7])"
   ]
  },
  {
   "cell_type": "code",
   "execution_count": 88,
   "id": "7ccb125e-2ac1-435d-b1d8-d1454e5af92a",
   "metadata": {},
   "outputs": [
    {
     "name": "stdout",
     "output_type": "stream",
     "text": [
      "[2 3 4]\n"
     ]
    }
   ],
   "source": [
    "print(arr[2:5]) # 2번째 데이터부터 4번째 데이터까지"
   ]
  },
  {
   "cell_type": "code",
   "execution_count": 92,
   "id": "56253443-7a9a-40b5-938f-6e0978e417b1",
   "metadata": {},
   "outputs": [
    {
     "name": "stdout",
     "output_type": "stream",
     "text": [
      "[ 0  1 10 10 10  5  6  7  8  9]\n"
     ]
    }
   ],
   "source": [
    "arr[2:5] = 10\n",
    "print(arr)\n",
    "# 2번째부터 4번째까지 지정한 값(10)이 모두 들어감\n",
    "# 잘라진 데이터를 바꿨는데 원본이 바뀜"
   ]
  },
  {
   "cell_type": "code",
   "execution_count": 100,
   "id": "f0c4b924-bb4c-42d5-9fe4-9b9446532d6e",
   "metadata": {},
   "outputs": [
    {
     "name": "stdout",
     "output_type": "stream",
     "text": [
      "[1, 2, 3, 4, 5]\n"
     ]
    }
   ],
   "source": [
    "py_list = [1, 2, 3, 4, 5]\n",
    "py_list[2:3].pop()\n",
    "print(py_list)\n",
    "# 파이썬 문법으로는 슬라이싱 하면 카피가 됨 (원본은 건드리지 X)"
   ]
  },
  {
   "cell_type": "code",
   "execution_count": 106,
   "id": "7387a762-70c8-4cc6-94bb-e1d7ca9af8d4",
   "metadata": {},
   "outputs": [
    {
     "name": "stdout",
     "output_type": "stream",
     "text": [
      "[[1 2 3]\n",
      " [4 5 6]]\n"
     ]
    }
   ],
   "source": [
    "arr = np.array([[1, 2, 3,], [4, 5, 6]])\n",
    "print(array)"
   ]
  },
  {
   "cell_type": "code",
   "execution_count": 110,
   "id": "475e2375-1186-4e0e-99b9-14f6d1328bb4",
   "metadata": {},
   "outputs": [
    {
     "name": "stdout",
     "output_type": "stream",
     "text": [
      "5\n",
      "5\n"
     ]
    }
   ],
   "source": [
    "print(arr[1][1]) # 리스트인 경우 각 인덱스를 [][]로 묶어주었지만\n",
    "print(arr[1, 1]) # 넘파이에서는 쉼표로 묶어 색인 가능"
   ]
  },
  {
   "cell_type": "code",
   "execution_count": 111,
   "id": "68eced14-f5ce-49bd-aca6-26ddc1a9ee5b",
   "metadata": {},
   "outputs": [],
   "source": [
    "arr3d = np.array([[[1, 2, 3], [4, 5, 6], [7, 8, 9]],\n",
    "          [[11, 12, 13], [14, 15, 16], [17, 18, 19]],\n",
    "          [[11, 22, 33], [44, 55, 66], [77, 88, 99]]])"
   ]
  },
  {
   "cell_type": "code",
   "execution_count": 116,
   "id": "766c8fd4-2049-44e5-855b-cb6be517d8b9",
   "metadata": {},
   "outputs": [
    {
     "name": "stdout",
     "output_type": "stream",
     "text": [
      "16\n"
     ]
    }
   ],
   "source": [
    "print(arr3d[1][1][2])"
   ]
  },
  {
   "cell_type": "code",
   "execution_count": 122,
   "id": "15e49612-7e88-434b-b88f-037fe81d045a",
   "metadata": {},
   "outputs": [
    {
     "data": {
      "text/plain": [
       "array([[[6],\n",
       "        [9]]])"
      ]
     },
     "execution_count": 122,
     "metadata": {},
     "output_type": "execute_result"
    }
   ],
   "source": [
    "arr3d[:1, 1:, 2:] # 슬라이싱은 차원을 유지, 인덱스접근하면 차원으로 들어가므로 줄어듦"
   ]
  },
  {
   "cell_type": "code",
   "execution_count": 123,
   "id": "aa0ee636-b509-486b-a201-e64ff5030563",
   "metadata": {},
   "outputs": [
    {
     "name": "stdout",
     "output_type": "stream",
     "text": [
      "[[[   1    2    3]\n",
      "  [   4    5 9999]\n",
      "  [   7    8 9999]]\n",
      "\n",
      " [[  11   12   13]\n",
      "  [  14   15   16]\n",
      "  [  17   18   19]]\n",
      "\n",
      " [[  11   22   33]\n",
      "  [  44   55   66]\n",
      "  [  77   88   99]]]\n"
     ]
    }
   ],
   "source": [
    "arr3d[0, 1:, 2:] = 9999\n",
    "print(arr3d)"
   ]
  },
  {
   "cell_type": "markdown",
   "id": "360cf020-8928-4264-b2e3-03348b980275",
   "metadata": {},
   "source": [
    "# 불리언 값으로 선택"
   ]
  },
  {
   "cell_type": "code",
   "execution_count": 130,
   "id": "2899dbb6-9b05-4ca7-a330-972ce28aedee",
   "metadata": {},
   "outputs": [],
   "source": [
    "names = np.array(['hong', 'kim', 'hong', 'kim'])\n",
    "data = np.array([['math', 60], ['math', 90], ['eng', 70], ['eng', 50]])"
   ]
  },
  {
   "cell_type": "code",
   "execution_count": 132,
   "id": "61d2a5d5-acef-4e3f-9f95-f998a05a0d10",
   "metadata": {},
   "outputs": [
    {
     "data": {
      "text/plain": [
       "array([ True, False,  True, False])"
      ]
     },
     "execution_count": 132,
     "metadata": {},
     "output_type": "execute_result"
    }
   ],
   "source": [
    "# 먼저 불리언 데이터를 만들어줌\n",
    "\n",
    "names == 'hong'"
   ]
  },
  {
   "cell_type": "code",
   "execution_count": 136,
   "id": "db6f5028-1e18-4b0a-ab11-adc27274fbf7",
   "metadata": {},
   "outputs": [
    {
     "data": {
      "text/plain": [
       "array([['math', '60'],\n",
       "       ['eng', '70']], dtype='<U21')"
      ]
     },
     "execution_count": 136,
     "metadata": {},
     "output_type": "execute_result"
    }
   ],
   "source": [
    "\n",
    "# data[[True, False, True, False]]\n",
    "data[names == 'hong']\n",
    "# 특정 조건에 맞는 데이터를 고를 때 사용\n",
    "# 위의 'hong' 값(T, F, T, F) 위치에 맞게 값을 뽑아줌"
   ]
  },
  {
   "cell_type": "code",
   "execution_count": 135,
   "id": "daefd957-e513-4726-80b6-6d72800ffd20",
   "metadata": {},
   "outputs": [
    {
     "name": "stdout",
     "output_type": "stream",
     "text": [
      "['60' '70']\n",
      "[['math']\n",
      " ['eng']]\n"
     ]
    }
   ],
   "source": [
    "print(data[names == 'hong', 1]) # 인덱싱\n",
    "print(data[names == 'hong', :1]) # 슬라이싱"
   ]
  },
  {
   "cell_type": "code",
   "execution_count": 137,
   "id": "3f358b2e-f7b0-4f93-86a5-f2b6af52738c",
   "metadata": {},
   "outputs": [
    {
     "data": {
      "text/plain": [
       "array([False,  True, False,  True])"
      ]
     },
     "execution_count": 137,
     "metadata": {},
     "output_type": "execute_result"
    }
   ],
   "source": [
    "names != 'hong' # hong이 아닌가요?"
   ]
  },
  {
   "cell_type": "code",
   "execution_count": 139,
   "id": "e341d0e8-31c4-4fbb-b1f6-826e6ea7bd3b",
   "metadata": {},
   "outputs": [
    {
     "name": "stdout",
     "output_type": "stream",
     "text": [
      "[False  True False  True]\n"
     ]
    }
   ],
   "source": [
    "print(~(names == 'hong')) # (names == 'hong') 의 값을 반전한 값\n",
    "# names == 'hong' 이름이 hong인가요?\n",
    "# 앞에 ~가 붙으므로서 이름이 hong이 아닌가요?로 반전됨"
   ]
  },
  {
   "cell_type": "code",
   "execution_count": 141,
   "id": "06bbe042-ea9c-432d-b71c-5ab7f94a9369",
   "metadata": {},
   "outputs": [
    {
     "data": {
      "text/plain": [
       "array([['math', '90'],\n",
       "       ['eng', '50']], dtype='<U21')"
      ]
     },
     "execution_count": 141,
     "metadata": {},
     "output_type": "execute_result"
    }
   ],
   "source": [
    "cond = names == 'kim'  # 변수를 먼저 넣어주고\n",
    "data[cond] # 결과값을 넣어주면"
   ]
  },
  {
   "cell_type": "markdown",
   "id": "b3faab3d-c658-4611-9b5e-d2ecdbcdcbbc",
   "metadata": {},
   "source": [
    "## 팬시 색인(fancy indexing)"
   ]
  },
  {
   "cell_type": "code",
   "execution_count": 14,
   "id": "5d9ef6e2-7a26-4ace-b920-573752aed94f",
   "metadata": {},
   "outputs": [
    {
     "name": "stdout",
     "output_type": "stream",
     "text": [
      "[[0. 0. 0. 0.]\n",
      " [1. 1. 1. 1.]\n",
      " [2. 2. 2. 2.]\n",
      " [3. 3. 3. 3.]\n",
      " [4. 4. 4. 4.]\n",
      " [5. 5. 5. 5.]\n",
      " [6. 6. 6. 6.]\n",
      " [7. 7. 7. 7.]]\n"
     ]
    }
   ],
   "source": [
    "arr = np.zeros((8, 4))\n",
    "for i in range(8):\n",
    "    arr[i] = i  # 한 줄 전체에 i를 넣어줘\n",
    "print(arr)"
   ]
  },
  {
   "cell_type": "code",
   "execution_count": 15,
   "id": "31b56a60-e440-4667-885b-953ed5128fda",
   "metadata": {},
   "outputs": [
    {
     "data": {
      "text/plain": [
       "array([[4., 4., 4., 4.],\n",
       "       [3., 3., 3., 3.],\n",
       "       [0., 0., 0., 0.],\n",
       "       [5., 5., 5., 5.]])"
      ]
     },
     "execution_count": 15,
     "metadata": {},
     "output_type": "execute_result"
    }
   ],
   "source": [
    "arr[[4, 3, 0, 5]]\n",
    "# 인덱싱으로 직접적으로 골라서 가져오는 것\n",
    "# 내가 지정한 순서대로 출력됨"
   ]
  },
  {
   "cell_type": "code",
   "execution_count": 16,
   "id": "db1d8103-fd6c-48b2-8b2e-9a95ffca5046",
   "metadata": {},
   "outputs": [
    {
     "data": {
      "text/plain": [
       "array([[5., 5., 5., 5.],\n",
       "       [3., 3., 3., 3.],\n",
       "       [7., 7., 7., 7.]])"
      ]
     },
     "execution_count": 16,
     "metadata": {},
     "output_type": "execute_result"
    }
   ],
   "source": [
    "arr[[-3, -5, -1]] #뒤에서부터 골라 가져옴"
   ]
  },
  {
   "cell_type": "code",
   "execution_count": 22,
   "id": "d1f39ed6-4504-4ea6-8c85-99d57f548346",
   "metadata": {},
   "outputs": [
    {
     "name": "stdout",
     "output_type": "stream",
     "text": [
      "[[ 0  1  2  3]\n",
      " [ 4  5  6  7]\n",
      " [ 8  9 10 11]\n",
      " [12 13 14 15]\n",
      " [16 17 18 19]\n",
      " [20 21 22 23]\n",
      " [24 25 26 27]\n",
      " [28 29 30 31]]\n"
     ]
    }
   ],
   "source": [
    "arr = np.arange(32).reshape(8, 4) # 가지고 있는 0, 31 배열을 다음과 같이(8,4)로 바꾸겠다\n",
    "print(arr)"
   ]
  },
  {
   "cell_type": "code",
   "execution_count": 23,
   "id": "ff46912b-ea4e-45e7-9ffe-bc2c5070d75a",
   "metadata": {},
   "outputs": [
    {
     "data": {
      "text/plain": [
       "array([ 6, 23])"
      ]
     },
     "execution_count": 23,
     "metadata": {},
     "output_type": "execute_result"
    }
   ],
   "source": [
    "arr[[1, 5], [2, 3]]\n",
    "# 1행의 두번째 데이터\n",
    "# 5행의 세번째 데이터\n",
    "# 위치값만 가져옴 (1차원으로 변함)"
   ]
  },
  {
   "cell_type": "code",
   "execution_count": 201,
   "id": "7a0ba3c6-4285-418d-bb33-4c4c931d38fd",
   "metadata": {},
   "outputs": [
    {
     "data": {
      "text/plain": [
       "array([[ 6,  7],\n",
       "       [22, 23]])"
      ]
     },
     "execution_count": 201,
     "metadata": {},
     "output_type": "execute_result"
    }
   ],
   "source": [
    "arr[[1, 5]][:, [2, 3]]\n",
    "# 1행과 5행을 먼저 선택\n",
    "# 그 후 2열과 3열 가져옴 (2차원 배열 유지)"
   ]
  },
  {
   "cell_type": "markdown",
   "id": "c52e48b8-cdaa-4150-af35-cc2ff637fc72",
   "metadata": {},
   "source": [
    "## 배열 전치"
   ]
  },
  {
   "cell_type": "code",
   "execution_count": 182,
   "id": "53cee21e-00a5-40d5-a262-7f961ee836ef",
   "metadata": {},
   "outputs": [
    {
     "name": "stdout",
     "output_type": "stream",
     "text": [
      "[[ 0  1  2  3  4]\n",
      " [ 5  6  7  8  9]\n",
      " [10 11 12 13 14]]\n"
     ]
    }
   ],
   "source": [
    "arr = np.arange(15).reshape(3, 5)\n",
    "print(arr)"
   ]
  },
  {
   "cell_type": "code",
   "execution_count": 185,
   "id": "87d66e30-fa69-416f-9763-704fe1c03f37",
   "metadata": {},
   "outputs": [
    {
     "name": "stdout",
     "output_type": "stream",
     "text": [
      "[[ 0  5 10]\n",
      " [ 1  6 11]\n",
      " [ 2  7 12]\n",
      " [ 3  8 13]\n",
      " [ 4  9 14]]\n"
     ]
    }
   ],
   "source": [
    "print(arr.T)  # 축이 바뀜, 행렬의 곱셈이 가능함"
   ]
  },
  {
   "cell_type": "code",
   "execution_count": 189,
   "id": "22898e08-f951-496f-a991-488260dca60c",
   "metadata": {},
   "outputs": [
    {
     "data": {
      "text/plain": [
       "array([[ 0,  3,  6,  9, 12],\n",
       "       [15, 18, 21, 24, 27],\n",
       "       [30, 33, 36, 39, 42]])"
      ]
     },
     "execution_count": 189,
     "metadata": {},
     "output_type": "execute_result"
    }
   ],
   "source": [
    "arr * 3   # 가지고 있는 하나하나의 요소를 모두 곱해줌"
   ]
  },
  {
   "cell_type": "code",
   "execution_count": 193,
   "id": "971e64fd-b504-49b1-9c6c-9e20c261bfb1",
   "metadata": {},
   "outputs": [
    {
     "name": "stdout",
     "output_type": "stream",
     "text": [
      "[[ 30  80 130]\n",
      " [ 80 255 430]\n",
      " [130 430 730]]\n",
      "[[ 30  80 130]\n",
      " [ 80 255 430]\n",
      " [130 430 730]]\n"
     ]
    }
   ],
   "source": [
    "print(arr @ arr.T)   # 행렬의 내적, 곱\n",
    "print(np.dot(arr, arr.T))"
   ]
  },
  {
   "cell_type": "markdown",
   "id": "84263719-224e-433f-86d7-b08f79b3b7da",
   "metadata": {},
   "source": [
    "## numpy 함수"
   ]
  },
  {
   "cell_type": "code",
   "execution_count": 11,
   "id": "2497bba3-0cd7-4439-8da5-42020fc50215",
   "metadata": {},
   "outputs": [],
   "source": [
    "import numpy as np"
   ]
  },
  {
   "cell_type": "code",
   "execution_count": 14,
   "id": "98ee8990-1653-45ff-abcc-973e67224df6",
   "metadata": {},
   "outputs": [
    {
     "name": "stdout",
     "output_type": "stream",
     "text": [
      "[[-0.05794162 -0.48959288  0.12334417]\n",
      " [ 1.71539554  2.40004598  0.10192348]\n",
      " [ 0.49965578  0.65470106 -0.53750776]]\n"
     ]
    }
   ],
   "source": [
    "samples = np.random.standard_normal(size=(3, 3))\n",
    "# 정규분포에서 난수를 생성하는 함수\n",
    "print(samples)"
   ]
  },
  {
   "cell_type": "code",
   "execution_count": 17,
   "id": "a0fce3d4-0ec3-4bae-96f5-7763fb40f614",
   "metadata": {},
   "outputs": [
    {
     "name": "stdout",
     "output_type": "stream",
     "text": [
      "[[       nan        nan 0.35120389]\n",
      " [1.3097311  1.54920818 0.31925458]\n",
      " [0.70686334 0.809136          nan]]\n"
     ]
    },
    {
     "name": "stderr",
     "output_type": "stream",
     "text": [
      "C:\\Users\\유승준\\AppData\\Local\\Temp\\ipykernel_48116\\3391402283.py:1: RuntimeWarning: invalid value encountered in sqrt\n",
      "  arr1 = np.sqrt(samples)\n"
     ]
    }
   ],
   "source": [
    "arr1 = np.sqrt(samples)\n",
    "# samples에 루트를 씌우는 함수\n",
    "# nan = 숫자가 아닙니다. (데이터가 없습니다)\n",
    "# 음수는 루트를 씌울 수 없음 => nan (결측치)\n",
    "\n",
    "print(arr1)"
   ]
  },
  {
   "cell_type": "code",
   "execution_count": 19,
   "id": "a1d1f836-766a-40cc-a419-c853714dc3dc",
   "metadata": {},
   "outputs": [
    {
     "name": "stdout",
     "output_type": "stream",
     "text": [
      "[[0.05794162 0.48959288 0.12334417]\n",
      " [1.71539554 2.40004598 0.10192348]\n",
      " [0.49965578 0.65470106 0.53750776]]\n"
     ]
    }
   ],
   "source": [
    "arr2 = np.abs(samples) # 절대값을 취한다 = 음수를 양수로 바꾸어줌, 절대값으로 바꿔줌\n",
    "print(arr2)"
   ]
  },
  {
   "cell_type": "code",
   "execution_count": 21,
   "id": "b4a3740c-4e7d-4e6b-a890-60578df6debd",
   "metadata": {},
   "outputs": [
    {
     "data": {
      "text/plain": [
       "array([[ True,  True, False],\n",
       "       [False, False, False],\n",
       "       [False, False,  True]])"
      ]
     },
     "execution_count": 21,
     "metadata": {},
     "output_type": "execute_result"
    }
   ],
   "source": [
    "np.isnan(arr1)\n",
    "# 현재 내가 가지고 있는 배열에 nan이 있나요?\n",
    "# 위치에 nan이 있으면 T, 없으면 F"
   ]
  },
  {
   "cell_type": "code",
   "execution_count": null,
   "id": "efaa865d-f18f-45c6-94d7-62907741ba13",
   "metadata": {},
   "outputs": [],
   "source": []
  },
  {
   "cell_type": "code",
   "execution_count": null,
   "id": "2d64c59d-903e-4cf7-ae2b-1e8e22eb4be9",
   "metadata": {},
   "outputs": [],
   "source": []
  },
  {
   "cell_type": "code",
   "execution_count": null,
   "id": "95c4c7bc-731b-472a-9ab8-f2da88a2325f",
   "metadata": {},
   "outputs": [],
   "source": []
  },
  {
   "cell_type": "code",
   "execution_count": null,
   "id": "8aac3aae-d66b-4ed3-9a0b-651a6eed4e32",
   "metadata": {},
   "outputs": [],
   "source": []
  }
 ],
 "metadata": {
  "kernelspec": {
   "display_name": "Python 3 (ipykernel)",
   "language": "python",
   "name": "python3"
  },
  "language_info": {
   "codemirror_mode": {
    "name": "ipython",
    "version": 3
   },
   "file_extension": ".py",
   "mimetype": "text/x-python",
   "name": "python",
   "nbconvert_exporter": "python",
   "pygments_lexer": "ipython3",
   "version": "3.13.2"
  }
 },
 "nbformat": 4,
 "nbformat_minor": 5
}
